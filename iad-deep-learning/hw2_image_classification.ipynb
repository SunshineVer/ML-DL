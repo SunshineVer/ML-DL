{
 "cells": [
  {
   "cell_type": "markdown",
   "metadata": {
    "cell_id": 1,
    "id": "kr9vAeEQlRVG"
   },
   "source": [
    "# Домашнее задание 2. Классификация изображений."
   ]
  },
  {
   "cell_type": "markdown",
   "metadata": {
    "cell_id": 3,
    "id": "BxX49gLclRVJ"
   },
   "source": [
    "В этом задании потребуется обучить классификатор изображений. Будем работать с датасетом, название которого раскрывать не будем. Можете посмотреть самостоятельно на картинки, которые в есть датасете. В нём 200 классов и около 5 тысяч картинок на каждый класс. Классы пронумерованы, как нетрудно догадаться, от 0 до 199. Скачать датасет можно вот [тут](https://yadi.sk/d/BNR41Vu3y0c7qA).\n",
    "\n",
    "Структура датасета простая -- есть директории train/ и val/, в которых лежат обучающие и валидационные данные. В train/ и val/ лежат директориии, соответствующие классам изображений, в которых лежат, собственно, сами изображения.\n",
    " \n",
    "__Задание__. Необходимо выполнить два задания\n",
    "\n",
    "1) Добейтесь accuracy **на валидации не менее 0.44**. В этом задании **запрещено** пользоваться предобученными моделями и ресайзом картинок. 5 баллов\n",
    "\n",
    "2) Добейтесь accuracy **на валидации не менее 0.84**. В этом задании делать ресайз и использовать претрейн можно. 5 баллов\n",
    "\n",
    "Напишите краткий отчёт о проделанных экспериментах. Что сработало и что не сработало? Почему вы решили, сделать так, а не иначе? Обязательно указывайте ссылки на чужой код, если вы его используете. Обязательно ссылайтесь на статьи / блогпосты / вопросы на stackoverflow / видосы от ютуберов-машинлернеров / курсы / подсказки от Дяди Васи и прочие дополнительные материалы, если вы их используете. \n",
    "\n",
    "Ваш код обязательно должен проходить все `assert`'ы ниже.\n",
    "\n",
    "__Использовать внешние данные для обучения строго запрещено в обоих заданиях. Также запрещено обучаться на валидационной выборке__.\n",
    "\n",
    "\n",
    "__Критерии оценки__: Оценка вычисляется по простой формуле: `min(10, 10 * Ваша accuracy / 0.44)` для первого задания и `min(10, 10 * (Ваша accuracy - 0.5) / 0.34)` для второго. Оценка округляется до десятых по арифметическим правилам.\n",
    "\n",
    "\n",
    "__Советы и указания__:\n",
    " - Наверняка вам потребуется много гуглить о классификации и о том, как заставить её работать. Это нормально, все гуглят. Но не забывайте, что нужно быть готовым за скатанный код отвечать :)\n",
    " - Используйте аугментации. Для этого пользуйтесь модулем `torchvision.transforms` или библиотекой [albumentations](https://github.com/albumentations-team/albumentations)\n",
    " - Можно обучать с нуля или файнтюнить (в зависимости от задания) модели из `torchvision`.\n",
    " - Рекомендуем написать вам сначала класс-датасет (или воспользоваться классом `ImageFolder`), который возвращает картинки и соответствующие им классы, а затем функции для трейна по шаблонам ниже. Однако делать это мы не заставляем. Если вам так неудобно, то можете писать код в удобном стиле. Однако учтите, что чрезмерное изменение нижеперечисленных шаблонов увеличит количество вопросов к вашему коду и повысит вероятность вызова на защиту :)\n",
    " - Валидируйте. Трекайте ошибки как можно раньше, чтобы не тратить время впустую.\n",
    " - Чтобы быстро отладить код, пробуйте обучаться на маленькой части датасета (скажем, 5-10 картинок просто чтобы убедиться что код запускается). Когда вы поняли, что смогли всё отдебажить, переходите обучению по всему датасету\n",
    " - На каждый запуск делайте ровно одно изменение в модели/аугментации/оптимайзере, чтобы понять, что и как влияет на результат.\n",
    " - Фиксируйте random seed.\n",
    " - Начинайте с простых моделей и постепенно переходите к сложным. Обучение лёгких моделей экономит много времени.\n",
    " - Ставьте расписание на learning rate. Уменьшайте его, когда лосс на валидации перестаёт убывать.\n",
    " - Советуем использовать GPU. Если у вас его нет, используйте google colab. Если вам неудобно его использовать на постоянной основе, напишите и отладьте весь код локально на CPU, а затем запустите уже написанный ноутбук в колабе. Авторское решение задания достигает требуемой точности в колабе за 15 минут обучения.\n",
    " \n",
    "Good luck & have fun! :)"
   ]
  },
  {
   "cell_type": "code",
   "execution_count": 1,
   "metadata": {
    "colab": {
     "base_uri": "https://localhost:8080/"
    },
    "id": "BaPSFxIz96tY",
    "outputId": "c008ed76-2d56-4273-bda5-873ec66c98f6"
   },
   "outputs": [
    {
     "name": "stdout",
     "output_type": "stream",
     "text": [
      "Looking in indexes: https://pypi.org/simple, https://us-python.pkg.dev/colab-wheels/public/simple/\n",
      "Collecting pytorch_lightning\n",
      "  Downloading pytorch_lightning-1.8.0.post1-py3-none-any.whl (796 kB)\n",
      "\u001b[K     |████████████████████████████████| 796 kB 12.8 MB/s \n",
      "\u001b[?25hCollecting torchmetrics\n",
      "  Downloading torchmetrics-0.10.2-py3-none-any.whl (529 kB)\n",
      "\u001b[K     |████████████████████████████████| 529 kB 67.3 MB/s \n",
      "\u001b[?25hRequirement already satisfied: torch>=1.9.* in /usr/local/lib/python3.7/dist-packages (from pytorch_lightning) (1.12.1+cu113)\n",
      "Requirement already satisfied: numpy>=1.17.2 in /usr/local/lib/python3.7/dist-packages (from pytorch_lightning) (1.21.6)\n",
      "Requirement already satisfied: typing-extensions>=4.0.0 in /usr/local/lib/python3.7/dist-packages (from pytorch_lightning) (4.1.1)\n",
      "Requirement already satisfied: tensorboard>=2.9.1 in /usr/local/lib/python3.7/dist-packages (from pytorch_lightning) (2.9.1)\n",
      "Collecting lightning-utilities==0.3.*\n",
      "  Downloading lightning_utilities-0.3.0-py3-none-any.whl (15 kB)\n",
      "Requirement already satisfied: packaging>=17.0 in /usr/local/lib/python3.7/dist-packages (from pytorch_lightning) (21.3)\n",
      "Collecting lightning-lite==1.8.0.post1\n",
      "  Downloading lightning_lite-1.8.0.post1-py3-none-any.whl (136 kB)\n",
      "\u001b[K     |████████████████████████████████| 136 kB 66.7 MB/s \n",
      "\u001b[?25hRequirement already satisfied: tqdm>=4.57.0 in /usr/local/lib/python3.7/dist-packages (from pytorch_lightning) (4.64.1)\n",
      "Requirement already satisfied: PyYAML>=5.4 in /usr/local/lib/python3.7/dist-packages (from pytorch_lightning) (6.0)\n",
      "Requirement already satisfied: fsspec[http]>2021.06.0 in /usr/local/lib/python3.7/dist-packages (from pytorch_lightning) (2022.10.0)\n",
      "Collecting fire\n",
      "  Downloading fire-0.4.0.tar.gz (87 kB)\n",
      "\u001b[K     |████████████████████████████████| 87 kB 7.1 MB/s \n",
      "\u001b[?25hRequirement already satisfied: requests in /usr/local/lib/python3.7/dist-packages (from fsspec[http]>2021.06.0->pytorch_lightning) (2.23.0)\n",
      "Requirement already satisfied: aiohttp!=4.0.0a0,!=4.0.0a1 in /usr/local/lib/python3.7/dist-packages (from fsspec[http]>2021.06.0->pytorch_lightning) (3.8.3)\n",
      "Requirement already satisfied: frozenlist>=1.1.1 in /usr/local/lib/python3.7/dist-packages (from aiohttp!=4.0.0a0,!=4.0.0a1->fsspec[http]>2021.06.0->pytorch_lightning) (1.3.1)\n",
      "Requirement already satisfied: multidict<7.0,>=4.5 in /usr/local/lib/python3.7/dist-packages (from aiohttp!=4.0.0a0,!=4.0.0a1->fsspec[http]>2021.06.0->pytorch_lightning) (6.0.2)\n",
      "Requirement already satisfied: attrs>=17.3.0 in /usr/local/lib/python3.7/dist-packages (from aiohttp!=4.0.0a0,!=4.0.0a1->fsspec[http]>2021.06.0->pytorch_lightning) (22.1.0)\n",
      "Requirement already satisfied: aiosignal>=1.1.2 in /usr/local/lib/python3.7/dist-packages (from aiohttp!=4.0.0a0,!=4.0.0a1->fsspec[http]>2021.06.0->pytorch_lightning) (1.2.0)\n",
      "Requirement already satisfied: asynctest==0.13.0 in /usr/local/lib/python3.7/dist-packages (from aiohttp!=4.0.0a0,!=4.0.0a1->fsspec[http]>2021.06.0->pytorch_lightning) (0.13.0)\n",
      "Requirement already satisfied: charset-normalizer<3.0,>=2.0 in /usr/local/lib/python3.7/dist-packages (from aiohttp!=4.0.0a0,!=4.0.0a1->fsspec[http]>2021.06.0->pytorch_lightning) (2.1.1)\n",
      "Requirement already satisfied: yarl<2.0,>=1.0 in /usr/local/lib/python3.7/dist-packages (from aiohttp!=4.0.0a0,!=4.0.0a1->fsspec[http]>2021.06.0->pytorch_lightning) (1.8.1)\n",
      "Requirement already satisfied: async-timeout<5.0,>=4.0.0a3 in /usr/local/lib/python3.7/dist-packages (from aiohttp!=4.0.0a0,!=4.0.0a1->fsspec[http]>2021.06.0->pytorch_lightning) (4.0.2)\n",
      "Requirement already satisfied: pyparsing!=3.0.5,>=2.0.2 in /usr/local/lib/python3.7/dist-packages (from packaging>=17.0->pytorch_lightning) (3.0.9)\n",
      "Requirement already satisfied: absl-py>=0.4 in /usr/local/lib/python3.7/dist-packages (from tensorboard>=2.9.1->pytorch_lightning) (1.3.0)\n",
      "Requirement already satisfied: protobuf<3.20,>=3.9.2 in /usr/local/lib/python3.7/dist-packages (from tensorboard>=2.9.1->pytorch_lightning) (3.17.3)\n",
      "Requirement already satisfied: markdown>=2.6.8 in /usr/local/lib/python3.7/dist-packages (from tensorboard>=2.9.1->pytorch_lightning) (3.4.1)\n",
      "Requirement already satisfied: setuptools>=41.0.0 in /usr/local/lib/python3.7/dist-packages (from tensorboard>=2.9.1->pytorch_lightning) (57.4.0)\n",
      "Requirement already satisfied: google-auth<3,>=1.6.3 in /usr/local/lib/python3.7/dist-packages (from tensorboard>=2.9.1->pytorch_lightning) (1.35.0)\n",
      "Requirement already satisfied: tensorboard-data-server<0.7.0,>=0.6.0 in /usr/local/lib/python3.7/dist-packages (from tensorboard>=2.9.1->pytorch_lightning) (0.6.1)\n",
      "Requirement already satisfied: werkzeug>=1.0.1 in /usr/local/lib/python3.7/dist-packages (from tensorboard>=2.9.1->pytorch_lightning) (1.0.1)\n",
      "Requirement already satisfied: grpcio>=1.24.3 in /usr/local/lib/python3.7/dist-packages (from tensorboard>=2.9.1->pytorch_lightning) (1.50.0)\n",
      "Requirement already satisfied: tensorboard-plugin-wit>=1.6.0 in /usr/local/lib/python3.7/dist-packages (from tensorboard>=2.9.1->pytorch_lightning) (1.8.1)\n",
      "Requirement already satisfied: wheel>=0.26 in /usr/local/lib/python3.7/dist-packages (from tensorboard>=2.9.1->pytorch_lightning) (0.38.1)\n",
      "Requirement already satisfied: google-auth-oauthlib<0.5,>=0.4.1 in /usr/local/lib/python3.7/dist-packages (from tensorboard>=2.9.1->pytorch_lightning) (0.4.6)\n",
      "Requirement already satisfied: pyasn1-modules>=0.2.1 in /usr/local/lib/python3.7/dist-packages (from google-auth<3,>=1.6.3->tensorboard>=2.9.1->pytorch_lightning) (0.2.8)\n",
      "Requirement already satisfied: rsa<5,>=3.1.4 in /usr/local/lib/python3.7/dist-packages (from google-auth<3,>=1.6.3->tensorboard>=2.9.1->pytorch_lightning) (4.9)\n",
      "Requirement already satisfied: cachetools<5.0,>=2.0.0 in /usr/local/lib/python3.7/dist-packages (from google-auth<3,>=1.6.3->tensorboard>=2.9.1->pytorch_lightning) (4.2.4)\n",
      "Requirement already satisfied: six>=1.9.0 in /usr/local/lib/python3.7/dist-packages (from google-auth<3,>=1.6.3->tensorboard>=2.9.1->pytorch_lightning) (1.15.0)\n",
      "Requirement already satisfied: requests-oauthlib>=0.7.0 in /usr/local/lib/python3.7/dist-packages (from google-auth-oauthlib<0.5,>=0.4.1->tensorboard>=2.9.1->pytorch_lightning) (1.3.1)\n",
      "Requirement already satisfied: importlib-metadata>=4.4 in /usr/local/lib/python3.7/dist-packages (from markdown>=2.6.8->tensorboard>=2.9.1->pytorch_lightning) (4.13.0)\n",
      "Requirement already satisfied: zipp>=0.5 in /usr/local/lib/python3.7/dist-packages (from importlib-metadata>=4.4->markdown>=2.6.8->tensorboard>=2.9.1->pytorch_lightning) (3.10.0)\n",
      "Requirement already satisfied: pyasn1<0.5.0,>=0.4.6 in /usr/local/lib/python3.7/dist-packages (from pyasn1-modules>=0.2.1->google-auth<3,>=1.6.3->tensorboard>=2.9.1->pytorch_lightning) (0.4.8)\n",
      "Requirement already satisfied: urllib3!=1.25.0,!=1.25.1,<1.26,>=1.21.1 in /usr/local/lib/python3.7/dist-packages (from requests->fsspec[http]>2021.06.0->pytorch_lightning) (1.24.3)\n",
      "Requirement already satisfied: certifi>=2017.4.17 in /usr/local/lib/python3.7/dist-packages (from requests->fsspec[http]>2021.06.0->pytorch_lightning) (2022.9.24)\n",
      "Requirement already satisfied: idna<3,>=2.5 in /usr/local/lib/python3.7/dist-packages (from requests->fsspec[http]>2021.06.0->pytorch_lightning) (2.10)\n",
      "Requirement already satisfied: chardet<4,>=3.0.2 in /usr/local/lib/python3.7/dist-packages (from requests->fsspec[http]>2021.06.0->pytorch_lightning) (3.0.4)\n",
      "Requirement already satisfied: oauthlib>=3.0.0 in /usr/local/lib/python3.7/dist-packages (from requests-oauthlib>=0.7.0->google-auth-oauthlib<0.5,>=0.4.1->tensorboard>=2.9.1->pytorch_lightning) (3.2.2)\n",
      "Requirement already satisfied: termcolor in /usr/local/lib/python3.7/dist-packages (from fire->lightning-utilities==0.3.*->pytorch_lightning) (2.1.0)\n",
      "Building wheels for collected packages: fire\n",
      "  Building wheel for fire (setup.py) ... \u001b[?25l\u001b[?25hdone\n",
      "  Created wheel for fire: filename=fire-0.4.0-py2.py3-none-any.whl size=115942 sha256=85ea0f113fcef6f9939a7777c0fc4671a4a488b335d5429adccda66a085dad0e\n",
      "  Stored in directory: /root/.cache/pip/wheels/8a/67/fb/2e8a12fa16661b9d5af1f654bd199366799740a85c64981226\n",
      "Successfully built fire\n",
      "Installing collected packages: fire, lightning-utilities, torchmetrics, lightning-lite, pytorch-lightning\n",
      "Successfully installed fire-0.4.0 lightning-lite-1.8.0.post1 lightning-utilities-0.3.0 pytorch-lightning-1.8.0.post1 torchmetrics-0.10.2\n"
     ]
    }
   ],
   "source": [
    "# !pip install wandb\n",
    "!pip3 install pytorch_lightning torchmetrics"
   ]
  },
  {
   "cell_type": "code",
   "execution_count": null,
   "metadata": {
    "id": "EWT3aFU9XmLJ"
   },
   "outputs": [],
   "source": [
    "# Возможно ниже будет не очень работать WandbLogger с первого разу, перезапустите kernel тетрадки\n",
    "# import wandb\n",
    "\n",
    "# wandb.login()"
   ]
  },
  {
   "cell_type": "code",
   "execution_count": 2,
   "metadata": {
    "cell_id": 4,
    "id": "LKcSNj4tlRVK"
   },
   "outputs": [],
   "source": [
    "import math\n",
    "import os\n",
    "import random\n",
    "import sys\n",
    "\n",
    "import matplotlib.pyplot as plt\n",
    "import numpy as np\n",
    "import pytorch_lightning as pl\n",
    "import torch\n",
    "import torchvision\n",
    "import torchvision.transforms as transforms\n",
    "from PIL import Image\n",
    "from pytorch_lightning.loggers import WandbLogger\n",
    "from torch import nn\n",
    "from torch.nn import functional as F\n",
    "from torch.utils.data import DataLoader\n",
    "from torchmetrics.functional import accuracy\n",
    "from torchvision.datasets import ImageFolder\n",
    "from tqdm import tqdm\n",
    "from IPython.display import clear_output\n",
    "\n",
    "# You may add any imports you need"
   ]
  },
  {
   "cell_type": "code",
   "execution_count": 3,
   "metadata": {
    "id": "47YPLjDL-Mtv"
   },
   "outputs": [],
   "source": [
    "def seed_everything(seed):\n",
    "    # Фискирует максимум сидов.\n",
    "    # Это понадобится, чтобы сравнение оптимизаторов было корректным\n",
    "    random.seed(seed)\n",
    "    os.environ[\"PYTHONHASHSEED\"] = str(seed)\n",
    "    np.random.seed(seed)\n",
    "    torch.manual_seed(seed)\n",
    "    torch.cuda.manual_seed(seed)\n",
    "    torch.backends.cudnn.deterministic = True\n",
    "\n",
    "\n",
    "seed_everything(123456)"
   ]
  },
  {
   "cell_type": "code",
   "execution_count": 4,
   "metadata": {
    "colab": {
     "base_uri": "https://localhost:8080/"
    },
    "id": "gVKdh063AzhH",
    "outputId": "aa99ce41-4575-48df-e3d0-3ca2ee18063a"
   },
   "outputs": [
    {
     "name": "stdout",
     "output_type": "stream",
     "text": [
      "--2022-11-08 18:58:22--  https://www.dropbox.com/s/33l8lp62rmvtx40/dataset.zip?dl=1\n",
      "Resolving www.dropbox.com (www.dropbox.com)... 162.125.81.18, 2620:100:6030:18::a27d:5012\n",
      "Connecting to www.dropbox.com (www.dropbox.com)|162.125.81.18|:443... connected.\n",
      "HTTP request sent, awaiting response... 302 Found\n",
      "Location: /s/dl/33l8lp62rmvtx40/dataset.zip [following]\n",
      "--2022-11-08 18:58:22--  https://www.dropbox.com/s/dl/33l8lp62rmvtx40/dataset.zip\n",
      "Reusing existing connection to www.dropbox.com:443.\n",
      "HTTP request sent, awaiting response... 302 Found\n",
      "Location: https://uc0e6d9b19bf0dbf36c95317637a.dl.dropboxusercontent.com/cd/0/get/Bwbn-zdRr7lF14hHUXRxcn-KFHFTJM6TK5fnG3yDd8bv7J4zWNsEYWUvb2aUja8-CDH2iCMZZZ__dzR4uNW0YUV9I7xHtcXM8FzTlXS7RASI9siAGv0l2HAezDOa42epJRra-cNsTDEGF11-WfqT-7ZEnzZT72beVsLUXoWS55dw9w/file?dl=1# [following]\n",
      "--2022-11-08 18:58:23--  https://uc0e6d9b19bf0dbf36c95317637a.dl.dropboxusercontent.com/cd/0/get/Bwbn-zdRr7lF14hHUXRxcn-KFHFTJM6TK5fnG3yDd8bv7J4zWNsEYWUvb2aUja8-CDH2iCMZZZ__dzR4uNW0YUV9I7xHtcXM8FzTlXS7RASI9siAGv0l2HAezDOa42epJRra-cNsTDEGF11-WfqT-7ZEnzZT72beVsLUXoWS55dw9w/file?dl=1\n",
      "Resolving uc0e6d9b19bf0dbf36c95317637a.dl.dropboxusercontent.com (uc0e6d9b19bf0dbf36c95317637a.dl.dropboxusercontent.com)... 162.125.81.15, 2620:100:6030:15::a27d:500f\n",
      "Connecting to uc0e6d9b19bf0dbf36c95317637a.dl.dropboxusercontent.com (uc0e6d9b19bf0dbf36c95317637a.dl.dropboxusercontent.com)|162.125.81.15|:443... connected.\n",
      "HTTP request sent, awaiting response... 200 OK\n",
      "Length: 220318689 (210M) [application/binary]\n",
      "Saving to: ‘dataset.zip’\n",
      "\n",
      "dataset.zip         100%[===================>] 210.11M  8.16MB/s    in 21s     \n",
      "\n",
      "2022-11-08 18:58:44 (10.1 MB/s) - ‘dataset.zip’ saved [220318689/220318689]\n",
      "\n"
     ]
    }
   ],
   "source": [
    "!wget https://www.dropbox.com/s/33l8lp62rmvtx40/dataset.zip?dl=1 -O dataset.zip && unzip -q dataset.zip"
   ]
  },
  {
   "cell_type": "markdown",
   "metadata": {
    "id": "RytEDW0ylRVN"
   },
   "source": [
    "## Задание 0"
   ]
  },
  {
   "cell_type": "markdown",
   "metadata": {
    "id": "2HZECedTvepi"
   },
   "source": [
    "### Что поможет сделать на 10 из 10 (одно задание - 5 баллов)"
   ]
  },
  {
   "cell_type": "markdown",
   "metadata": {
    "id": "dOioHGEiveso"
   },
   "source": [
    "1. Использовать все возможные методы оптимизации и эксперемнтировать с ними.\n",
    "2. Подбор learning rate. Пример из прошлого семинара как это делать: [Как найти lr](https://pytorch-lightning.readthedocs.io/en/1.4.5/advanced/lr_finder.html)\n",
    "\n",
    "```\n",
    "  trainer = pl.Trainer(accelerator=\"gpu\", max_epochs=2, auto_lr_find=True) \n",
    "\n",
    "  trainer.tune(module, train_dataloader, eval_dataloader)\n",
    "\n",
    "  trainer.fit(module, train_dataloader, eval_dataloader))\n",
    "```\n",
    "\n",
    "\n",
    "\n",
    "3. Аугментация данных. [Документация (полезная)](https://pytorch.org/vision/main/transforms.html), а также [библиотека albumentation](https://towardsdatascience.com/getting-started-with-albumentation-winning-deep-learning-image-augmentation-technique-in-pytorch-47aaba0ee3f8)\n",
    "4. Подбор архитектуры модели. \n",
    "5. Можно написать модель руками свою в YourNet, а можно импортировать не предобученную сетку известной архитектуры из модуля torchvision.models. Один из способов как можно сделать: \n",
    "\n",
    "  * `torchvision.models.resnet18(pretrained=False, num_classes=200).to(device)`\n",
    "  * Документация по возможным моделям и как их можно брать: [Документация (полезная)](https://pytorch.org/vision/stable/models.html)\n",
    "6. Правильно нормализовывать данные при создании, пример [тык, но тут и в целом гайд от и до](https://www.pluralsight.com/guides/image-classification-with-pytorch)\n",
    "7. Model Checkpointing. Сохраняйте свой прогресс (модели), чтобы когда что-то пойдет не так вы сможете начать с этого места или просто воспроизвести свои результаты модели, которые обучали. \n",
    " * Пример как можно с wandb тут: [Сохраняем лучшие модели в wandb](https://docs.wandb.ai/guides/integrations/lightning)\n",
    " * По простому можно так: [Сохраняем модели в pytorch дока](https://pytorch.org/tutorials/beginner/saving_loading_models.html)"
   ]
  },
  {
   "cell_type": "markdown",
   "metadata": {
    "id": "WYePsQgNRB-n"
   },
   "source": [
    "### Подготовка данных"
   ]
  },
  {
   "cell_type": "code",
   "execution_count": null,
   "metadata": {
    "colab": {
     "base_uri": "https://localhost:8080/"
    },
    "id": "8mZDCSEB9BG8",
    "outputId": "e1e025d6-27e3-4e3d-ca08-34eba48f2cd8"
   },
   "outputs": [
    {
     "data": {
      "text/plain": [
       "(tensor([0.4802, 0.4481, 0.3975]), tensor([0.2770, 0.2691, 0.2821]))"
      ]
     },
     "execution_count": 14,
     "metadata": {},
     "output_type": "execute_result"
    }
   ],
   "source": [
    "# посчитаем среднее и стандартное отклонение, воспользовавшись функцией с \n",
    "# https://towardsdatascience.com/how-to-calculate-the-mean-and-standard-deviation-normalizing-datasets-in-pytorch-704bd7d05f4c\n",
    "\n",
    "train_dataset = ImageFolder('/content/dataset/dataset/train', transform=transforms.ToTensor())\n",
    "train_dataloader = DataLoader(dataset=train_dataset, batch_size=32)\n",
    "\n",
    "def get_mean_and_std(dataloader):\n",
    "    channels_sum, channels_squared_sum, num_batches = 0, 0, 0\n",
    "    for data, _ in dataloader:\n",
    "        # Mean over batch, height and width, but not over the channels\n",
    "        channels_sum += torch.mean(data, dim=[0,2,3])\n",
    "        channels_squared_sum += torch.mean(data**2, dim=[0,2,3])\n",
    "        num_batches += 1\n",
    "    \n",
    "    mean = channels_sum / num_batches\n",
    "\n",
    "    # std = sqrt(E[X^2] - (E[X])^2)\n",
    "    std = (channels_squared_sum / num_batches - mean ** 2) ** 0.5\n",
    "\n",
    "    return mean, std\n",
    "\n",
    "get_mean_and_std(train_dataloader)"
   ]
  },
  {
   "cell_type": "code",
   "execution_count": null,
   "metadata": {
    "cell_id": 5,
    "colab": {
     "base_uri": "https://localhost:8080/"
    },
    "id": "QEdDQtHdlRVO",
    "outputId": "a9142e64-ec1d-4377-884c-7ea4f6e2a9f3"
   },
   "outputs": [
    {
     "name": "stderr",
     "output_type": "stream",
     "text": [
      "/usr/local/lib/python3.7/dist-packages/torch/utils/data/dataloader.py:566: UserWarning: This DataLoader will create 4 worker processes in total. Our suggested max number of worker in current system is 2, which is smaller than what this DataLoader is going to create. Please be aware that excessive worker creation might get DataLoader running slow or even freeze, lower the worker number to avoid potential slowness/freeze if necessary.\n",
      "  cpuset_checked))\n"
     ]
    }
   ],
   "source": [
    "# YOU CAN DEFINE AUGMENTATIONS HERE\n",
    "seed_everything(123456)\n",
    "train_transform = transforms.Compose(\n",
    "    [\n",
    "        transforms.ColorJitter(hue=.05, saturation=.05),\n",
    "        transforms.RandomHorizontalFlip(),\n",
    "        transforms.RandomRotation(20),\n",
    "        transforms.ToTensor(),\n",
    "        transforms.Normalize((0.4802, 0.4481, 0.3975), (0.2770, 0.2691, 0.2821))\n",
    "    ]\n",
    ")\n",
    "val_transform = torchvision.transforms.Compose(\n",
    "    [\n",
    "        torchvision.transforms.ToTensor(),\n",
    "        transforms.Normalize((0.4802, 0.4481, 0.3975), (0.2770, 0.2691, 0.2821))\n",
    "    ]\n",
    ")\n",
    "\n",
    "train_dataset = ImageFolder('/content/dataset/dataset/train', transform=train_transform)\n",
    "val_dataset = ImageFolder('/content/dataset/dataset/val', transform=val_transform)\n",
    "# REPLACE ./dataset/dataset WITH THE FOLDER WHERE YOU DOWNLOADED AND UNZIPPED THE DATASET\n",
    "\n",
    "train_dataloader = DataLoader(\n",
    "    train_dataset,\n",
    "    batch_size=32,\n",
    "    shuffle=True,\n",
    "    num_workers=4\n",
    ") # YOUR CODE HERE\n",
    "\n",
    "val_dataloader = DataLoader(\n",
    "    val_dataset,\n",
    "    batch_size=32,\n",
    "    shuffle=True,\n",
    "    num_workers=4\n",
    ") # YOUR CODE HERE"
   ]
  },
  {
   "cell_type": "code",
   "execution_count": null,
   "metadata": {
    "cell_id": 6,
    "colab": {
     "base_uri": "https://localhost:8080/"
    },
    "id": "mrg4Yj0VlRVP",
    "outputId": "28b9dd24-4a8a-4af5-d95c-1e92dfb46368"
   },
   "outputs": [
    {
     "name": "stdout",
     "output_type": "stream",
     "text": [
      "tests passed\n"
     ]
    }
   ],
   "source": [
    "# Just very simple sanity checks\n",
    "assert isinstance(train_dataset[0], tuple)\n",
    "assert len(train_dataset[0]) == 2\n",
    "assert isinstance(train_dataset[1][1], int)\n",
    "print(\"tests passed\")"
   ]
  },
  {
   "cell_type": "markdown",
   "metadata": {
    "id": "EOuM0EEYj7Ml"
   },
   "source": [
    "### Посмотрим на картиночки"
   ]
  },
  {
   "cell_type": "code",
   "execution_count": null,
   "metadata": {
    "colab": {
     "base_uri": "https://localhost:8080/",
     "height": 554
    },
    "id": "DeuB0YC3LYRm",
    "outputId": "d85379f5-e0a4-4d41-d55d-ee92c998e347"
   },
   "outputs": [
    {
     "name": "stderr",
     "output_type": "stream",
     "text": [
      "WARNING:matplotlib.image:Clipping input data to the valid range for imshow with RGB data ([0..1] for floats or [0..255] for integers).\n"
     ]
    },
    {
     "data": {
      "image/png": "[encoded data removed]",
      "text/plain": [
       "<Figure size 432x288 with 1 Axes>"
      ]
     },
     "metadata": {
      "needs_background": "light"
     },
     "output_type": "display_data"
    },
    {
     "name": "stderr",
     "output_type": "stream",
     "text": [
      "WARNING:matplotlib.image:Clipping input data to the valid range for imshow with RGB data ([0..1] for floats or [0..255] for integers).\n"
     ]
    },
    {
     "data": {
      "image/png": "[encoded data removed]",
      "text/plain": [
       "<Figure size 432x288 with 1 Axes>"
      ]
     },
     "metadata": {
      "needs_background": "light"
     },
     "output_type": "display_data"
    }
   ],
   "source": [
    "for batch in val_dataloader:\n",
    "    images, class_nums = batch\n",
    "    plt.imshow(images[5].permute(1, 2, 0))\n",
    "    plt.show()\n",
    "    plt.imshow(images[19].permute(1, 2, 0))\n",
    "    plt.show()\n",
    "    break"
   ]
  },
  {
   "cell_type": "markdown",
   "metadata": {
    "id": "LCwKB-3nKm1-"
   },
   "source": [
    "## Задание 1. \n",
    "\n",
    "5 баллов\n",
    "Добейтесь accuracy на валидации не менее 0.44. В этом задании запрещено пользоваться предобученными моделями и ресайзом картинок.\n",
    "\n",
    "\n",
    "Для того чтобы выбить скор (считается ниже) на 2.5/5 балла (то есть половину за задание) достаточно соблюдать пару простых жизненных правил:\n",
    "1. Аугментация (без нее сложно очень будет)\n",
    "2. Оптимайзеры можно (и нужно) использовать друг с другом. Однако когда что-то проверяете, то не меняйте несколько параметров сразу - собьете логику экспериментов\n",
    "3. Не используйте полносвязные модели или самые первые сверточные, используйте более современные архитектуры (что на лекциях встречались)\n",
    "4. Посмотреть все ноутбуки прошедших семинаров и слепить из них что-то общее. Семинарских тетрадок хватит сверх"
   ]
  },
  {
   "cell_type": "markdown",
   "metadata": {
    "id": "pWR2l6ymZfRJ"
   },
   "source": [
    "### Модель (или просто импортируйте не предобученную)"
   ]
  },
  {
   "cell_type": "code",
   "execution_count": null,
   "metadata": {
    "id": "mDYorQXLZhTQ"
   },
   "outputs": [],
   "source": [
    "class YourNet(torch.nn.Module):\n",
    "    def __init__(self, activation=nn.ReLU):\n",
    "        super().__init__()\n",
    "        # YOUR CODE HERE\n",
    "        self.vgg1 = nn.Sequential(\n",
    "            # in_channels, out_channels, kernel_size\n",
    "            nn.Conv2d(3, 16, 3, padding=1),\n",
    "            nn.BatchNorm2d(16),\n",
    "            activation(),\n",
    "            nn.Conv2d(16, 16, 3, padding=1),\n",
    "            nn.BatchNorm2d(16),\n",
    "            activation(),\n",
    "            # torch.nn.MaxPool2d(kernel_size, stride=None, padding=0, dilation=1, return_indices=False, ceil_mode=False)\n",
    "            nn.MaxPool2d(2),\n",
    "            # nn.Dropout(0.2)\n",
    "        )\n",
    "\n",
    "        self.vgg2 = nn.Sequential(\n",
    "            nn.Conv2d(16, 32, 3, padding=1),\n",
    "            nn.BatchNorm2d(32),\n",
    "            activation(),\n",
    "            nn.Conv2d(32, 32, 3, padding=1),\n",
    "            nn.BatchNorm2d(32),\n",
    "            activation(),\n",
    "            nn.MaxPool2d(2),\n",
    "            # nn.Dropout(0.2)\n",
    "        )\n",
    "\n",
    "        self.vgg3 = nn.Sequential(\n",
    "            nn.Conv2d(32, 64, 3, padding=1),\n",
    "            nn.BatchNorm2d(64),\n",
    "            activation(),\n",
    "            nn.Conv2d(64, 64, 3, padding=1),\n",
    "            nn.BatchNorm2d(64),\n",
    "            activation(),\n",
    "            nn.Conv2d(64, 64, 3, padding=1),\n",
    "            nn.BatchNorm2d(64),\n",
    "            activation(),\n",
    "            nn.MaxPool2d(2),\n",
    "            # nn.Dropout(0.2)\n",
    "        )\n",
    "\n",
    "        self.lin1 = nn.Sequential(\n",
    "            nn.Flatten(),\n",
    "            nn.Linear(64 * 8 * 8, 1024),\n",
    "            nn.BatchNorm1d(1024),\n",
    "            activation(),\n",
    "        )\n",
    "\n",
    "        self.lin2 = nn.Sequential(\n",
    "            nn.Linear(1024, 512),\n",
    "            nn.BatchNorm1d(512),\n",
    "            activation()\n",
    "        )\n",
    "\n",
    "        self.drop = torch.nn.Dropout(0.3)\n",
    "\n",
    "        self.output = torch.nn.Linear(in_features=512, out_features=200)\n",
    "\n",
    "        self.loss_func = torch.nn.CrossEntropyLoss()\n",
    "        self.targets = torch.Tensor()\n",
    "        self.preds = torch.Tensor()\n",
    "\n",
    "\n",
    "    def forward(self, x):\n",
    "        # runs the Neural Network\n",
    "        # YOUR CODE HERE\n",
    "        \n",
    "        x = self.vgg1(x)\n",
    "        x = self.vgg2(x)\n",
    "        x = self.vgg3(x)\n",
    "        x = self.lin1(x)\n",
    "        x = self.drop(x)\n",
    "        x = self.lin2(x)\n",
    "        \n",
    "        return self.output(x)\n",
    "\n",
    "    # def forward(self, images, target=None):\n",
    "    #     # YOUR CODE HERE\n",
    "    #     output = self._forward(images)\n",
    "\n",
    "    #     # get accuracy score and save it to self.accuracy\n",
    "    #     if target is not None:\n",
    "    #         loss = self.loss_func(output, target)\n",
    "\n",
    "    #         self.targets = torch.cat((self.targets, target.cpu()), 0)\n",
    "    #         pred = torch.argmax(output, dim=-1)\n",
    "    #         self.preds = torch.cat((self.preds, pred.cpu()), 0)\n",
    "    #         self.accuracy = accuracy(self.preds.long(), self.targets.long())\n",
    "\n",
    "    #     return loss\n",
    "\n",
    "    # def get_accuracy(self, reset=False):\n",
    "    #     # YOUR CODE HERE\n",
    "    #     if reset:\n",
    "    #         self.targets = torch.Tensor()\n",
    "    #         self.preds = torch.Tensor()\n",
    "    #     return self.accuracy"
   ]
  },
  {
   "cell_type": "code",
   "execution_count": 5,
   "metadata": {
    "id": "ZUI6740YykYz"
   },
   "outputs": [],
   "source": [
    "def plot_history(train_history, val_history, title=\"loss\"):\n",
    "    plt.figure()\n",
    "    plt.title(title)\n",
    "    plt.plot(train_history, label=\"train\", zorder=1)\n",
    "    \n",
    "    points = np.array(val_history)\n",
    "    steps = list(range(0, len(train_history) + 1, int(len(train_history) / len(val_history))))[1:]\n",
    "    \n",
    "    plt.scatter(steps, val_history, marker='+', s=180, c=\"orange\", label=\"val\", zorder=2)\n",
    "    plt.xlabel(\"train steps\")\n",
    "    \n",
    "    plt.legend(loc=\"best\")\n",
    "    plt.grid()\n",
    "\n",
    "    plt.show()"
   ]
  },
  {
   "cell_type": "code",
   "execution_count": 6,
   "metadata": {
    "id": "-0RPbd_WErhq"
   },
   "outputs": [],
   "source": [
    "def train(model, criterion, optimizer, train_dataloader, val_dataloader, n_epochs=10):\n",
    "    train_loss_log, train_acc_log, val_loss_log, val_acc_log = [], [], [], []\n",
    "    \n",
    "    for epoch in range(n_epochs):\n",
    "        # тренировка\n",
    "        train_epoch_loss, train_epoch_true_hits = torch.empty(0), torch.empty(0)\n",
    "        model.train()\n",
    "        for imgs, labels in tqdm(train_dataloader, desc=f\"Training, epoch {epoch}\", leave=False):\n",
    "            imgs, labels = imgs.to(device), labels.to(device)\n",
    "            \n",
    "            y_pred = model(imgs)\n",
    "            loss = criterion(y_pred, labels)\n",
    "            loss.backward()\n",
    "            optimizer.step()\n",
    "            optimizer.zero_grad()\n",
    "            \n",
    "            # log loss for the current epoch and the whole training history\n",
    "            train_epoch_loss = torch.cat((train_epoch_loss, loss.cpu().unsqueeze(0) / labels.cpu().size(0)))\n",
    "            train_loss_log.append(loss.cpu().data / labels.cpu().size(0))\n",
    "\n",
    "            # log accuracy for the current epoch and the whole training history\n",
    "            pred_classes = torch.argmax(y_pred.cpu(), dim=-1)\n",
    "            train_epoch_true_hits = torch.cat((\n",
    "                train_epoch_true_hits, \n",
    "                (pred_classes == labels.cpu()).sum().unsqueeze(0)\n",
    "            ))\n",
    "            train_acc_log.append((pred_classes == labels.cpu()).sum() / labels.cpu().shape[0])\n",
    "\n",
    "\n",
    "        # валидация\n",
    "        val_epoch_loss, val_epoch_true_hits = torch.empty(0), torch.empty(0)\n",
    "        model.eval()\n",
    "        with torch.no_grad():\n",
    "            for imgs, labels in tqdm(val_dataloader, desc=f\"Validating, epoch {epoch}\", leave=False):\n",
    "                imgs, labels = imgs.to(device), labels.to(device)\n",
    "                \n",
    "                y_pred = model(imgs)\n",
    "                loss = criterion(y_pred, labels)\n",
    "                val_epoch_loss = torch.cat((val_epoch_loss, loss.cpu().unsqueeze(0) / labels.cpu().size(0)))\n",
    "\n",
    "                pred_classes = torch.argmax(y_pred.cpu(), dim=-1)\n",
    "                val_epoch_true_hits = torch.cat((\n",
    "                    val_epoch_true_hits,\n",
    "                    (pred_classes == labels.cpu()).sum().unsqueeze(0)\n",
    "                ))\n",
    "        \n",
    "        \n",
    "        val_loss_log.append(val_epoch_loss.mean())\n",
    "        val_acc_log.append(val_epoch_true_hits.sum() / val_epoch_true_hits.size(0) / val_dataloader.batch_size)\n",
    "        clear_output()\n",
    "        plot_history(train_loss_log, val_loss_log, \"loss\")\n",
    "        plot_history(train_acc_log, val_acc_log, \"accuracy\")\n",
    "\n",
    "        print(\"Train loss:\", train_epoch_loss.mean().item())\n",
    "        print(\n",
    "            \"Train acc:\", \n",
    "            (train_epoch_true_hits.sum() / train_epoch_true_hits.size(0) / train_dataloader.batch_size).item()\n",
    "        )\n",
    "        print(\"Val loss:\", val_epoch_loss.mean().item())\n",
    "        print(\n",
    "            \"Val acc:\", \n",
    "            (val_epoch_true_hits.sum() / val_epoch_true_hits.size(0) / val_dataloader.batch_size).item()\n",
    "        )\n",
    "\n",
    "        if (val_epoch_true_hits.sum() / val_epoch_true_hits.size(0) / val_dataloader.batch_size).item() > 0.8:\n",
    "          break"
   ]
  },
  {
   "cell_type": "code",
   "execution_count": 7,
   "metadata": {
    "id": "7byPDkSqmOk-"
   },
   "outputs": [],
   "source": [
    "device = \"cuda\" if torch.cuda.is_available() else \"cpu\""
   ]
  },
  {
   "cell_type": "code",
   "execution_count": null,
   "metadata": {
    "colab": {
     "base_uri": "https://localhost:8080/",
     "height": 642
    },
    "id": "WlGkqPmhExqS",
    "outputId": "0ec39beb-ad77-432e-ad25-49a4d4b5314a"
   },
   "outputs": [
    {
     "data": {
      "image/png": "[encoded data removed]",
      "text/plain": [
       "<Figure size 432x288 with 1 Axes>"
      ]
     },
     "metadata": {
      "needs_background": "light"
     },
     "output_type": "display_data"
    },
    {
     "data": {
      "image/png": "[encoded data removed]",
      "text/plain": [
       "<Figure size 432x288 with 1 Axes>"
      ]
     },
     "metadata": {
      "needs_background": "light"
     },
     "output_type": "display_data"
    },
    {
     "name": "stdout",
     "output_type": "stream",
     "text": [
      "Train loss: 0.06282433867454529\n",
      "Train acc: 0.4979400038719177\n",
      "Val loss: 0.07352238148450851\n",
      "Val acc: 0.4402955174446106\n"
     ]
    }
   ],
   "source": [
    "model_baseline = YourNet().to(device)\n",
    "criterion = nn.CrossEntropyLoss()\n",
    "optimizer = torch.optim.SGD(model_baseline.parameters(), lr=0.001, momentum=0.9)\n",
    "\n",
    "train(model_baseline, criterion, optimizer, train_dataloader, val_dataloader, n_epochs=30)"
   ]
  },
  {
   "cell_type": "markdown",
   "metadata": {
    "id": "3eoTAB1fSOuk"
   },
   "source": [
    "### Валидация результатов задания"
   ]
  },
  {
   "cell_type": "code",
   "execution_count": 15,
   "metadata": {
    "id": "4M_BAiMNl1rL"
   },
   "outputs": [],
   "source": [
    "def evaluate_task(model, test_dataloader, device=\"cuda:0\"):\n",
    "    model = model.to(device)\n",
    "    model.eval()\n",
    "    accuracy = torch.empty(0)\n",
    "    for images, labels in tqdm(test_dataloader):\n",
    "        images, labels = images.to(device), labels.to(device)\n",
    "        with torch.no_grad():\n",
    "            y_pred = model(images)\n",
    "\n",
    "            pred_classes = torch.argmax(y_pred.cpu(), dim=-1)\n",
    "\n",
    "            accuracy = torch.cat((\n",
    "                    accuracy,\n",
    "                    (pred_classes == labels.cpu()).sum().unsqueeze(0)\n",
    "                ))\n",
    "\n",
    "    return (accuracy.sum() / accuracy.size(0) / test_dataloader.batch_size).item()"
   ]
  },
  {
   "cell_type": "code",
   "execution_count": null,
   "metadata": {
    "colab": {
     "base_uri": "https://localhost:8080/"
    },
    "id": "TsP57VG8KEfP",
    "outputId": "ceb04eeb-84ab-4577-96c7-0b07ddb865de"
   },
   "outputs": [
    {
     "name": "stderr",
     "output_type": "stream",
     "text": [
      "\r",
      "  0%|          | 0/313 [00:00<?, ?it/s]/usr/local/lib/python3.7/dist-packages/torch/utils/data/dataloader.py:566: UserWarning: This DataLoader will create 4 worker processes in total. Our suggested max number of worker in current system is 2, which is smaller than what this DataLoader is going to create. Please be aware that excessive worker creation might get DataLoader running slow or even freeze, lower the worker number to avoid potential slowness/freeze if necessary.\n",
      "  cpuset_checked))\n",
      "100%|██████████| 313/313 [00:05<00:00, 56.26it/s]"
     ]
    },
    {
     "name": "stdout",
     "output_type": "stream",
     "text": [
      "Оценка за это задание составит 10.00 баллов\n"
     ]
    },
    {
     "name": "stderr",
     "output_type": "stream",
     "text": [
      "\n"
     ]
    }
   ],
   "source": [
    "model = model_baseline\n",
    "\n",
    "accuracy = evaluate_task(model, val_dataloader)\n",
    "print(f\"Оценка за это задание составит {np.clip(10 * accuracy / 0.44, 0, 10):.2f} баллов\")"
   ]
  },
  {
   "cell_type": "markdown",
   "metadata": {
    "id": "cZqSdlQQKukS"
   },
   "source": [
    "## Задание 2\n",
    "\n",
    "5 баллов\n",
    "Добейтесь accuracy на валидации не менее 0.84. В этом задании делать ресайз и использовать претрейн можно.\n",
    "\n",
    "Для того чтобы выбить скор (считается ниже) на 2.5/5 балла (то есть половину за задание) достаточно соблюдать пару простых жизненных правил:\n",
    "1. Аугментация (без нее сложно очень будет)\n",
    "2. Оптимайзеры можно (и нужно) использовать друг с другом. Однако когда что-то проверяете, то не меняйте несколько параметров сразу - собьете логику экспериментов\n",
    "3. Не используйте полносвязные модели или самые первые сверточные, используйте более современные архитектуры (что на лекциях встречались или можете пойти дальше).\n",
    "4. Попробуйте сначала посмотреть качество исходной модели без дообучения, сохраните как baseline. Отсюда поймете какие слои нужно дообучать.\n",
    "5. Посмотреть все ноутбуки прошедших семинаров и слепить из них что-то общее. Семинарских тетрадок хватит сверх"
   ]
  },
  {
   "cell_type": "markdown",
   "metadata": {
    "id": "zDzXM5rNxNQp"
   },
   "source": [
    "### Модель (или просто импортируйте предобученную)"
   ]
  },
  {
   "cell_type": "code",
   "execution_count": 9,
   "metadata": {
    "id": "sDr9l76AxH_9"
   },
   "outputs": [],
   "source": [
    "seed_everything(123456)\n",
    "train_transform2 = transforms.Compose(\n",
    "    [\n",
    "        transforms.Resize((128, 128)),\n",
    "        transforms.RandomHorizontalFlip(),\n",
    "        transforms.RandomRotation(20),\n",
    "        transforms.ToTensor(),\n",
    "        transforms.Normalize((0.4802, 0.4481, 0.3975), (0.2770, 0.2691, 0.2821))\n",
    "    ]\n",
    ")\n",
    "val_transform2 = torchvision.transforms.Compose(\n",
    "    [\n",
    "        transforms.Resize((128, 128)),\n",
    "        torchvision.transforms.ToTensor(),\n",
    "        transforms.Normalize((0.4802, 0.4481, 0.3975), (0.2770, 0.2691, 0.2821))\n",
    "    ]\n",
    ")\n",
    "\n",
    "train_dataset2 = ImageFolder('/content/dataset/dataset/train', transform=train_transform2)\n",
    "val_dataset2 = ImageFolder('/content/dataset/dataset/val', transform=val_transform2)\n",
    "# REPLACE ./dataset/dataset WITH THE FOLDER WHERE YOU DOWNLOADED AND UNZIPPED THE DATASET\n",
    "\n",
    "train_dataloader2 = DataLoader(\n",
    "    train_dataset2,\n",
    "    batch_size=64,\n",
    "    shuffle=True,\n",
    "    num_workers=2\n",
    ") # YOUR CODE HERE\n",
    "\n",
    "val_dataloader2 = DataLoader(\n",
    "    val_dataset2,\n",
    "    batch_size=64,\n",
    "    shuffle=True,\n",
    "    num_workers=2\n",
    ") # YOUR CODE HERE"
   ]
  },
  {
   "cell_type": "code",
   "execution_count": 10,
   "metadata": {
    "colab": {
     "base_uri": "https://localhost:8080/",
     "height": 1000,
     "referenced_widgets": [
      "52320624c80c4c3da98e30b0f17e2ffd",
      "b0ea3996811841898e02633a07b5f7a5",
      "5be20c3126904dc0bf015eefe5a491ed",
      "6131892ac1164b29afb1d9d34eb75962",
      "10e00184d4654afeb554ac1d96b23b44",
      "a1623e9b507b4742a3c747508bff8b54",
      "084962407da841d98139569c02d68b91",
      "9d659650cd27472dbf58b82ef030f6f0",
      "224513a2977647d2a8c09dbcc2078bb7",
      "c8101bbde7714054a5cba8c2b6e97170",
      "ed2f17a4620840c29093d67bf7986651"
     ]
    },
    "id": "8r6pfhQSYO1q",
    "outputId": "5aafa33b-a063-4ef5-ae71-f98d560601c8"
   },
   "outputs": [
    {
     "name": "stderr",
     "output_type": "stream",
     "text": [
      "Downloading: \"https://download.pytorch.org/models/efficientnet_b1-c27df63c.pth\" to /root/.cache/torch/hub/checkpoints/efficientnet_b1-c27df63c.pth\n"
     ]
    },
    {
     "data": {
      "application/vnd.jupyter.widget-view+json": {
       "model_id": "52320624c80c4c3da98e30b0f17e2ffd",
       "version_major": 2,
       "version_minor": 0
      },
      "text/plain": [
       "  0%|          | 0.00/30.1M [00:00<?, ?B/s]"
      ]
     },
     "metadata": {},
     "output_type": "display_data"
    },
    {
     "data": {
      "text/plain": [
       "EfficientNet(\n",
       "  (features): Sequential(\n",
       "    (0): Conv2dNormActivation(\n",
       "      (0): Conv2d(3, 32, kernel_size=(3, 3), stride=(2, 2), padding=(1, 1), bias=False)\n",
       "      (1): BatchNorm2d(32, eps=1e-05, momentum=0.1, affine=True, track_running_stats=True)\n",
       "      (2): SiLU(inplace=True)\n",
       "    )\n",
       "    (1): Sequential(\n",
       "      (0): MBConv(\n",
       "        (block): Sequential(\n",
       "          (0): Conv2dNormActivation(\n",
       "            (0): Conv2d(32, 32, kernel_size=(3, 3), stride=(1, 1), padding=(1, 1), groups=32, bias=False)\n",
       "            (1): BatchNorm2d(32, eps=1e-05, momentum=0.1, affine=True, track_running_stats=True)\n",
       "            (2): SiLU(inplace=True)\n",
       "          )\n",
       "          (1): SqueezeExcitation(\n",
       "            (avgpool): AdaptiveAvgPool2d(output_size=1)\n",
       "            (fc1): Conv2d(32, 8, kernel_size=(1, 1), stride=(1, 1))\n",
       "            (fc2): Conv2d(8, 32, kernel_size=(1, 1), stride=(1, 1))\n",
       "            (activation): SiLU(inplace=True)\n",
       "            (scale_activation): Sigmoid()\n",
       "          )\n",
       "          (2): Conv2dNormActivation(\n",
       "            (0): Conv2d(32, 16, kernel_size=(1, 1), stride=(1, 1), bias=False)\n",
       "            (1): BatchNorm2d(16, eps=1e-05, momentum=0.1, affine=True, track_running_stats=True)\n",
       "          )\n",
       "        )\n",
       "        (stochastic_depth): StochasticDepth(p=0.0, mode=row)\n",
       "      )\n",
       "      (1): MBConv(\n",
       "        (block): Sequential(\n",
       "          (0): Conv2dNormActivation(\n",
       "            (0): Conv2d(16, 16, kernel_size=(3, 3), stride=(1, 1), padding=(1, 1), groups=16, bias=False)\n",
       "            (1): BatchNorm2d(16, eps=1e-05, momentum=0.1, affine=True, track_running_stats=True)\n",
       "            (2): SiLU(inplace=True)\n",
       "          )\n",
       "          (1): SqueezeExcitation(\n",
       "            (avgpool): AdaptiveAvgPool2d(output_size=1)\n",
       "            (fc1): Conv2d(16, 4, kernel_size=(1, 1), stride=(1, 1))\n",
       "            (fc2): Conv2d(4, 16, kernel_size=(1, 1), stride=(1, 1))\n",
       "            (activation): SiLU(inplace=True)\n",
       "            (scale_activation): Sigmoid()\n",
       "          )\n",
       "          (2): Conv2dNormActivation(\n",
       "            (0): Conv2d(16, 16, kernel_size=(1, 1), stride=(1, 1), bias=False)\n",
       "            (1): BatchNorm2d(16, eps=1e-05, momentum=0.1, affine=True, track_running_stats=True)\n",
       "          )\n",
       "        )\n",
       "        (stochastic_depth): StochasticDepth(p=0.008695652173913044, mode=row)\n",
       "      )\n",
       "    )\n",
       "    (2): Sequential(\n",
       "      (0): MBConv(\n",
       "        (block): Sequential(\n",
       "          (0): Conv2dNormActivation(\n",
       "            (0): Conv2d(16, 96, kernel_size=(1, 1), stride=(1, 1), bias=False)\n",
       "            (1): BatchNorm2d(96, eps=1e-05, momentum=0.1, affine=True, track_running_stats=True)\n",
       "            (2): SiLU(inplace=True)\n",
       "          )\n",
       "          (1): Conv2dNormActivation(\n",
       "            (0): Conv2d(96, 96, kernel_size=(3, 3), stride=(2, 2), padding=(1, 1), groups=96, bias=False)\n",
       "            (1): BatchNorm2d(96, eps=1e-05, momentum=0.1, affine=True, track_running_stats=True)\n",
       "            (2): SiLU(inplace=True)\n",
       "          )\n",
       "          (2): SqueezeExcitation(\n",
       "            (avgpool): AdaptiveAvgPool2d(output_size=1)\n",
       "            (fc1): Conv2d(96, 4, kernel_size=(1, 1), stride=(1, 1))\n",
       "            (fc2): Conv2d(4, 96, kernel_size=(1, 1), stride=(1, 1))\n",
       "            (activation): SiLU(inplace=True)\n",
       "            (scale_activation): Sigmoid()\n",
       "          )\n",
       "          (3): Conv2dNormActivation(\n",
       "            (0): Conv2d(96, 24, kernel_size=(1, 1), stride=(1, 1), bias=False)\n",
       "            (1): BatchNorm2d(24, eps=1e-05, momentum=0.1, affine=True, track_running_stats=True)\n",
       "          )\n",
       "        )\n",
       "        (stochastic_depth): StochasticDepth(p=0.017391304347826087, mode=row)\n",
       "      )\n",
       "      (1): MBConv(\n",
       "        (block): Sequential(\n",
       "          (0): Conv2dNormActivation(\n",
       "            (0): Conv2d(24, 144, kernel_size=(1, 1), stride=(1, 1), bias=False)\n",
       "            (1): BatchNorm2d(144, eps=1e-05, momentum=0.1, affine=True, track_running_stats=True)\n",
       "            (2): SiLU(inplace=True)\n",
       "          )\n",
       "          (1): Conv2dNormActivation(\n",
       "            (0): Conv2d(144, 144, kernel_size=(3, 3), stride=(1, 1), padding=(1, 1), groups=144, bias=False)\n",
       "            (1): BatchNorm2d(144, eps=1e-05, momentum=0.1, affine=True, track_running_stats=True)\n",
       "            (2): SiLU(inplace=True)\n",
       "          )\n",
       "          (2): SqueezeExcitation(\n",
       "            (avgpool): AdaptiveAvgPool2d(output_size=1)\n",
       "            (fc1): Conv2d(144, 6, kernel_size=(1, 1), stride=(1, 1))\n",
       "            (fc2): Conv2d(6, 144, kernel_size=(1, 1), stride=(1, 1))\n",
       "            (activation): SiLU(inplace=True)\n",
       "            (scale_activation): Sigmoid()\n",
       "          )\n",
       "          (3): Conv2dNormActivation(\n",
       "            (0): Conv2d(144, 24, kernel_size=(1, 1), stride=(1, 1), bias=False)\n",
       "            (1): BatchNorm2d(24, eps=1e-05, momentum=0.1, affine=True, track_running_stats=True)\n",
       "          )\n",
       "        )\n",
       "        (stochastic_depth): StochasticDepth(p=0.026086956521739136, mode=row)\n",
       "      )\n",
       "      (2): MBConv(\n",
       "        (block): Sequential(\n",
       "          (0): Conv2dNormActivation(\n",
       "            (0): Conv2d(24, 144, kernel_size=(1, 1), stride=(1, 1), bias=False)\n",
       "            (1): BatchNorm2d(144, eps=1e-05, momentum=0.1, affine=True, track_running_stats=True)\n",
       "            (2): SiLU(inplace=True)\n",
       "          )\n",
       "          (1): Conv2dNormActivation(\n",
       "            (0): Conv2d(144, 144, kernel_size=(3, 3), stride=(1, 1), padding=(1, 1), groups=144, bias=False)\n",
       "            (1): BatchNorm2d(144, eps=1e-05, momentum=0.1, affine=True, track_running_stats=True)\n",
       "            (2): SiLU(inplace=True)\n",
       "          )\n",
       "          (2): SqueezeExcitation(\n",
       "            (avgpool): AdaptiveAvgPool2d(output_size=1)\n",
       "            (fc1): Conv2d(144, 6, kernel_size=(1, 1), stride=(1, 1))\n",
       "            (fc2): Conv2d(6, 144, kernel_size=(1, 1), stride=(1, 1))\n",
       "            (activation): SiLU(inplace=True)\n",
       "            (scale_activation): Sigmoid()\n",
       "          )\n",
       "          (3): Conv2dNormActivation(\n",
       "            (0): Conv2d(144, 24, kernel_size=(1, 1), stride=(1, 1), bias=False)\n",
       "            (1): BatchNorm2d(24, eps=1e-05, momentum=0.1, affine=True, track_running_stats=True)\n",
       "          )\n",
       "        )\n",
       "        (stochastic_depth): StochasticDepth(p=0.034782608695652174, mode=row)\n",
       "      )\n",
       "    )\n",
       "    (3): Sequential(\n",
       "      (0): MBConv(\n",
       "        (block): Sequential(\n",
       "          (0): Conv2dNormActivation(\n",
       "            (0): Conv2d(24, 144, kernel_size=(1, 1), stride=(1, 1), bias=False)\n",
       "            (1): BatchNorm2d(144, eps=1e-05, momentum=0.1, affine=True, track_running_stats=True)\n",
       "            (2): SiLU(inplace=True)\n",
       "          )\n",
       "          (1): Conv2dNormActivation(\n",
       "            (0): Conv2d(144, 144, kernel_size=(5, 5), stride=(2, 2), padding=(2, 2), groups=144, bias=False)\n",
       "            (1): BatchNorm2d(144, eps=1e-05, momentum=0.1, affine=True, track_running_stats=True)\n",
       "            (2): SiLU(inplace=True)\n",
       "          )\n",
       "          (2): SqueezeExcitation(\n",
       "            (avgpool): AdaptiveAvgPool2d(output_size=1)\n",
       "            (fc1): Conv2d(144, 6, kernel_size=(1, 1), stride=(1, 1))\n",
       "            (fc2): Conv2d(6, 144, kernel_size=(1, 1), stride=(1, 1))\n",
       "            (activation): SiLU(inplace=True)\n",
       "            (scale_activation): Sigmoid()\n",
       "          )\n",
       "          (3): Conv2dNormActivation(\n",
       "            (0): Conv2d(144, 40, kernel_size=(1, 1), stride=(1, 1), bias=False)\n",
       "            (1): BatchNorm2d(40, eps=1e-05, momentum=0.1, affine=True, track_running_stats=True)\n",
       "          )\n",
       "        )\n",
       "        (stochastic_depth): StochasticDepth(p=0.043478260869565216, mode=row)\n",
       "      )\n",
       "      (1): MBConv(\n",
       "        (block): Sequential(\n",
       "          (0): Conv2dNormActivation(\n",
       "            (0): Conv2d(40, 240, kernel_size=(1, 1), stride=(1, 1), bias=False)\n",
       "            (1): BatchNorm2d(240, eps=1e-05, momentum=0.1, affine=True, track_running_stats=True)\n",
       "            (2): SiLU(inplace=True)\n",
       "          )\n",
       "          (1): Conv2dNormActivation(\n",
       "            (0): Conv2d(240, 240, kernel_size=(5, 5), stride=(1, 1), padding=(2, 2), groups=240, bias=False)\n",
       "            (1): BatchNorm2d(240, eps=1e-05, momentum=0.1, affine=True, track_running_stats=True)\n",
       "            (2): SiLU(inplace=True)\n",
       "          )\n",
       "          (2): SqueezeExcitation(\n",
       "            (avgpool): AdaptiveAvgPool2d(output_size=1)\n",
       "            (fc1): Conv2d(240, 10, kernel_size=(1, 1), stride=(1, 1))\n",
       "            (fc2): Conv2d(10, 240, kernel_size=(1, 1), stride=(1, 1))\n",
       "            (activation): SiLU(inplace=True)\n",
       "            (scale_activation): Sigmoid()\n",
       "          )\n",
       "          (3): Conv2dNormActivation(\n",
       "            (0): Conv2d(240, 40, kernel_size=(1, 1), stride=(1, 1), bias=False)\n",
       "            (1): BatchNorm2d(40, eps=1e-05, momentum=0.1, affine=True, track_running_stats=True)\n",
       "          )\n",
       "        )\n",
       "        (stochastic_depth): StochasticDepth(p=0.05217391304347827, mode=row)\n",
       "      )\n",
       "      (2): MBConv(\n",
       "        (block): Sequential(\n",
       "          (0): Conv2dNormActivation(\n",
       "            (0): Conv2d(40, 240, kernel_size=(1, 1), stride=(1, 1), bias=False)\n",
       "            (1): BatchNorm2d(240, eps=1e-05, momentum=0.1, affine=True, track_running_stats=True)\n",
       "            (2): SiLU(inplace=True)\n",
       "          )\n",
       "          (1): Conv2dNormActivation(\n",
       "            (0): Conv2d(240, 240, kernel_size=(5, 5), stride=(1, 1), padding=(2, 2), groups=240, bias=False)\n",
       "            (1): BatchNorm2d(240, eps=1e-05, momentum=0.1, affine=True, track_running_stats=True)\n",
       "            (2): SiLU(inplace=True)\n",
       "          )\n",
       "          (2): SqueezeExcitation(\n",
       "            (avgpool): AdaptiveAvgPool2d(output_size=1)\n",
       "            (fc1): Conv2d(240, 10, kernel_size=(1, 1), stride=(1, 1))\n",
       "            (fc2): Conv2d(10, 240, kernel_size=(1, 1), stride=(1, 1))\n",
       "            (activation): SiLU(inplace=True)\n",
       "            (scale_activation): Sigmoid()\n",
       "          )\n",
       "          (3): Conv2dNormActivation(\n",
       "            (0): Conv2d(240, 40, kernel_size=(1, 1), stride=(1, 1), bias=False)\n",
       "            (1): BatchNorm2d(40, eps=1e-05, momentum=0.1, affine=True, track_running_stats=True)\n",
       "          )\n",
       "        )\n",
       "        (stochastic_depth): StochasticDepth(p=0.06086956521739131, mode=row)\n",
       "      )\n",
       "    )\n",
       "    (4): Sequential(\n",
       "      (0): MBConv(\n",
       "        (block): Sequential(\n",
       "          (0): Conv2dNormActivation(\n",
       "            (0): Conv2d(40, 240, kernel_size=(1, 1), stride=(1, 1), bias=False)\n",
       "            (1): BatchNorm2d(240, eps=1e-05, momentum=0.1, affine=True, track_running_stats=True)\n",
       "            (2): SiLU(inplace=True)\n",
       "          )\n",
       "          (1): Conv2dNormActivation(\n",
       "            (0): Conv2d(240, 240, kernel_size=(3, 3), stride=(2, 2), padding=(1, 1), groups=240, bias=False)\n",
       "            (1): BatchNorm2d(240, eps=1e-05, momentum=0.1, affine=True, track_running_stats=True)\n",
       "            (2): SiLU(inplace=True)\n",
       "          )\n",
       "          (2): SqueezeExcitation(\n",
       "            (avgpool): AdaptiveAvgPool2d(output_size=1)\n",
       "            (fc1): Conv2d(240, 10, kernel_size=(1, 1), stride=(1, 1))\n",
       "            (fc2): Conv2d(10, 240, kernel_size=(1, 1), stride=(1, 1))\n",
       "            (activation): SiLU(inplace=True)\n",
       "            (scale_activation): Sigmoid()\n",
       "          )\n",
       "          (3): Conv2dNormActivation(\n",
       "            (0): Conv2d(240, 80, kernel_size=(1, 1), stride=(1, 1), bias=False)\n",
       "            (1): BatchNorm2d(80, eps=1e-05, momentum=0.1, affine=True, track_running_stats=True)\n",
       "          )\n",
       "        )\n",
       "        (stochastic_depth): StochasticDepth(p=0.06956521739130435, mode=row)\n",
       "      )\n",
       "      (1): MBConv(\n",
       "        (block): Sequential(\n",
       "          (0): Conv2dNormActivation(\n",
       "            (0): Conv2d(80, 480, kernel_size=(1, 1), stride=(1, 1), bias=False)\n",
       "            (1): BatchNorm2d(480, eps=1e-05, momentum=0.1, affine=True, track_running_stats=True)\n",
       "            (2): SiLU(inplace=True)\n",
       "          )\n",
       "          (1): Conv2dNormActivation(\n",
       "            (0): Conv2d(480, 480, kernel_size=(3, 3), stride=(1, 1), padding=(1, 1), groups=480, bias=False)\n",
       "            (1): BatchNorm2d(480, eps=1e-05, momentum=0.1, affine=True, track_running_stats=True)\n",
       "            (2): SiLU(inplace=True)\n",
       "          )\n",
       "          (2): SqueezeExcitation(\n",
       "            (avgpool): AdaptiveAvgPool2d(output_size=1)\n",
       "            (fc1): Conv2d(480, 20, kernel_size=(1, 1), stride=(1, 1))\n",
       "            (fc2): Conv2d(20, 480, kernel_size=(1, 1), stride=(1, 1))\n",
       "            (activation): SiLU(inplace=True)\n",
       "            (scale_activation): Sigmoid()\n",
       "          )\n",
       "          (3): Conv2dNormActivation(\n",
       "            (0): Conv2d(480, 80, kernel_size=(1, 1), stride=(1, 1), bias=False)\n",
       "            (1): BatchNorm2d(80, eps=1e-05, momentum=0.1, affine=True, track_running_stats=True)\n",
       "          )\n",
       "        )\n",
       "        (stochastic_depth): StochasticDepth(p=0.0782608695652174, mode=row)\n",
       "      )\n",
       "      (2): MBConv(\n",
       "        (block): Sequential(\n",
       "          (0): Conv2dNormActivation(\n",
       "            (0): Conv2d(80, 480, kernel_size=(1, 1), stride=(1, 1), bias=False)\n",
       "            (1): BatchNorm2d(480, eps=1e-05, momentum=0.1, affine=True, track_running_stats=True)\n",
       "            (2): SiLU(inplace=True)\n",
       "          )\n",
       "          (1): Conv2dNormActivation(\n",
       "            (0): Conv2d(480, 480, kernel_size=(3, 3), stride=(1, 1), padding=(1, 1), groups=480, bias=False)\n",
       "            (1): BatchNorm2d(480, eps=1e-05, momentum=0.1, affine=True, track_running_stats=True)\n",
       "            (2): SiLU(inplace=True)\n",
       "          )\n",
       "          (2): SqueezeExcitation(\n",
       "            (avgpool): AdaptiveAvgPool2d(output_size=1)\n",
       "            (fc1): Conv2d(480, 20, kernel_size=(1, 1), stride=(1, 1))\n",
       "            (fc2): Conv2d(20, 480, kernel_size=(1, 1), stride=(1, 1))\n",
       "            (activation): SiLU(inplace=True)\n",
       "            (scale_activation): Sigmoid()\n",
       "          )\n",
       "          (3): Conv2dNormActivation(\n",
       "            (0): Conv2d(480, 80, kernel_size=(1, 1), stride=(1, 1), bias=False)\n",
       "            (1): BatchNorm2d(80, eps=1e-05, momentum=0.1, affine=True, track_running_stats=True)\n",
       "          )\n",
       "        )\n",
       "        (stochastic_depth): StochasticDepth(p=0.08695652173913043, mode=row)\n",
       "      )\n",
       "      (3): MBConv(\n",
       "        (block): Sequential(\n",
       "          (0): Conv2dNormActivation(\n",
       "            (0): Conv2d(80, 480, kernel_size=(1, 1), stride=(1, 1), bias=False)\n",
       "            (1): BatchNorm2d(480, eps=1e-05, momentum=0.1, affine=True, track_running_stats=True)\n",
       "            (2): SiLU(inplace=True)\n",
       "          )\n",
       "          (1): Conv2dNormActivation(\n",
       "            (0): Conv2d(480, 480, kernel_size=(3, 3), stride=(1, 1), padding=(1, 1), groups=480, bias=False)\n",
       "            (1): BatchNorm2d(480, eps=1e-05, momentum=0.1, affine=True, track_running_stats=True)\n",
       "            (2): SiLU(inplace=True)\n",
       "          )\n",
       "          (2): SqueezeExcitation(\n",
       "            (avgpool): AdaptiveAvgPool2d(output_size=1)\n",
       "            (fc1): Conv2d(480, 20, kernel_size=(1, 1), stride=(1, 1))\n",
       "            (fc2): Conv2d(20, 480, kernel_size=(1, 1), stride=(1, 1))\n",
       "            (activation): SiLU(inplace=True)\n",
       "            (scale_activation): Sigmoid()\n",
       "          )\n",
       "          (3): Conv2dNormActivation(\n",
       "            (0): Conv2d(480, 80, kernel_size=(1, 1), stride=(1, 1), bias=False)\n",
       "            (1): BatchNorm2d(80, eps=1e-05, momentum=0.1, affine=True, track_running_stats=True)\n",
       "          )\n",
       "        )\n",
       "        (stochastic_depth): StochasticDepth(p=0.09565217391304348, mode=row)\n",
       "      )\n",
       "    )\n",
       "    (5): Sequential(\n",
       "      (0): MBConv(\n",
       "        (block): Sequential(\n",
       "          (0): Conv2dNormActivation(\n",
       "            (0): Conv2d(80, 480, kernel_size=(1, 1), stride=(1, 1), bias=False)\n",
       "            (1): BatchNorm2d(480, eps=1e-05, momentum=0.1, affine=True, track_running_stats=True)\n",
       "            (2): SiLU(inplace=True)\n",
       "          )\n",
       "          (1): Conv2dNormActivation(\n",
       "            (0): Conv2d(480, 480, kernel_size=(5, 5), stride=(1, 1), padding=(2, 2), groups=480, bias=False)\n",
       "            (1): BatchNorm2d(480, eps=1e-05, momentum=0.1, affine=True, track_running_stats=True)\n",
       "            (2): SiLU(inplace=True)\n",
       "          )\n",
       "          (2): SqueezeExcitation(\n",
       "            (avgpool): AdaptiveAvgPool2d(output_size=1)\n",
       "            (fc1): Conv2d(480, 20, kernel_size=(1, 1), stride=(1, 1))\n",
       "            (fc2): Conv2d(20, 480, kernel_size=(1, 1), stride=(1, 1))\n",
       "            (activation): SiLU(inplace=True)\n",
       "            (scale_activation): Sigmoid()\n",
       "          )\n",
       "          (3): Conv2dNormActivation(\n",
       "            (0): Conv2d(480, 112, kernel_size=(1, 1), stride=(1, 1), bias=False)\n",
       "            (1): BatchNorm2d(112, eps=1e-05, momentum=0.1, affine=True, track_running_stats=True)\n",
       "          )\n",
       "        )\n",
       "        (stochastic_depth): StochasticDepth(p=0.10434782608695654, mode=row)\n",
       "      )\n",
       "      (1): MBConv(\n",
       "        (block): Sequential(\n",
       "          (0): Conv2dNormActivation(\n",
       "            (0): Conv2d(112, 672, kernel_size=(1, 1), stride=(1, 1), bias=False)\n",
       "            (1): BatchNorm2d(672, eps=1e-05, momentum=0.1, affine=True, track_running_stats=True)\n",
       "            (2): SiLU(inplace=True)\n",
       "          )\n",
       "          (1): Conv2dNormActivation(\n",
       "            (0): Conv2d(672, 672, kernel_size=(5, 5), stride=(1, 1), padding=(2, 2), groups=672, bias=False)\n",
       "            (1): BatchNorm2d(672, eps=1e-05, momentum=0.1, affine=True, track_running_stats=True)\n",
       "            (2): SiLU(inplace=True)\n",
       "          )\n",
       "          (2): SqueezeExcitation(\n",
       "            (avgpool): AdaptiveAvgPool2d(output_size=1)\n",
       "            (fc1): Conv2d(672, 28, kernel_size=(1, 1), stride=(1, 1))\n",
       "            (fc2): Conv2d(28, 672, kernel_size=(1, 1), stride=(1, 1))\n",
       "            (activation): SiLU(inplace=True)\n",
       "            (scale_activation): Sigmoid()\n",
       "          )\n",
       "          (3): Conv2dNormActivation(\n",
       "            (0): Conv2d(672, 112, kernel_size=(1, 1), stride=(1, 1), bias=False)\n",
       "            (1): BatchNorm2d(112, eps=1e-05, momentum=0.1, affine=True, track_running_stats=True)\n",
       "          )\n",
       "        )\n",
       "        (stochastic_depth): StochasticDepth(p=0.11304347826086956, mode=row)\n",
       "      )\n",
       "      (2): MBConv(\n",
       "        (block): Sequential(\n",
       "          (0): Conv2dNormActivation(\n",
       "            (0): Conv2d(112, 672, kernel_size=(1, 1), stride=(1, 1), bias=False)\n",
       "            (1): BatchNorm2d(672, eps=1e-05, momentum=0.1, affine=True, track_running_stats=True)\n",
       "            (2): SiLU(inplace=True)\n",
       "          )\n",
       "          (1): Conv2dNormActivation(\n",
       "            (0): Conv2d(672, 672, kernel_size=(5, 5), stride=(1, 1), padding=(2, 2), groups=672, bias=False)\n",
       "            (1): BatchNorm2d(672, eps=1e-05, momentum=0.1, affine=True, track_running_stats=True)\n",
       "            (2): SiLU(inplace=True)\n",
       "          )\n",
       "          (2): SqueezeExcitation(\n",
       "            (avgpool): AdaptiveAvgPool2d(output_size=1)\n",
       "            (fc1): Conv2d(672, 28, kernel_size=(1, 1), stride=(1, 1))\n",
       "            (fc2): Conv2d(28, 672, kernel_size=(1, 1), stride=(1, 1))\n",
       "            (activation): SiLU(inplace=True)\n",
       "            (scale_activation): Sigmoid()\n",
       "          )\n",
       "          (3): Conv2dNormActivation(\n",
       "            (0): Conv2d(672, 112, kernel_size=(1, 1), stride=(1, 1), bias=False)\n",
       "            (1): BatchNorm2d(112, eps=1e-05, momentum=0.1, affine=True, track_running_stats=True)\n",
       "          )\n",
       "        )\n",
       "        (stochastic_depth): StochasticDepth(p=0.12173913043478261, mode=row)\n",
       "      )\n",
       "      (3): MBConv(\n",
       "        (block): Sequential(\n",
       "          (0): Conv2dNormActivation(\n",
       "            (0): Conv2d(112, 672, kernel_size=(1, 1), stride=(1, 1), bias=False)\n",
       "            (1): BatchNorm2d(672, eps=1e-05, momentum=0.1, affine=True, track_running_stats=True)\n",
       "            (2): SiLU(inplace=True)\n",
       "          )\n",
       "          (1): Conv2dNormActivation(\n",
       "            (0): Conv2d(672, 672, kernel_size=(5, 5), stride=(1, 1), padding=(2, 2), groups=672, bias=False)\n",
       "            (1): BatchNorm2d(672, eps=1e-05, momentum=0.1, affine=True, track_running_stats=True)\n",
       "            (2): SiLU(inplace=True)\n",
       "          )\n",
       "          (2): SqueezeExcitation(\n",
       "            (avgpool): AdaptiveAvgPool2d(output_size=1)\n",
       "            (fc1): Conv2d(672, 28, kernel_size=(1, 1), stride=(1, 1))\n",
       "            (fc2): Conv2d(28, 672, kernel_size=(1, 1), stride=(1, 1))\n",
       "            (activation): SiLU(inplace=True)\n",
       "            (scale_activation): Sigmoid()\n",
       "          )\n",
       "          (3): Conv2dNormActivation(\n",
       "            (0): Conv2d(672, 112, kernel_size=(1, 1), stride=(1, 1), bias=False)\n",
       "            (1): BatchNorm2d(112, eps=1e-05, momentum=0.1, affine=True, track_running_stats=True)\n",
       "          )\n",
       "        )\n",
       "        (stochastic_depth): StochasticDepth(p=0.13043478260869565, mode=row)\n",
       "      )\n",
       "    )\n",
       "    (6): Sequential(\n",
       "      (0): MBConv(\n",
       "        (block): Sequential(\n",
       "          (0): Conv2dNormActivation(\n",
       "            (0): Conv2d(112, 672, kernel_size=(1, 1), stride=(1, 1), bias=False)\n",
       "            (1): BatchNorm2d(672, eps=1e-05, momentum=0.1, affine=True, track_running_stats=True)\n",
       "            (2): SiLU(inplace=True)\n",
       "          )\n",
       "          (1): Conv2dNormActivation(\n",
       "            (0): Conv2d(672, 672, kernel_size=(5, 5), stride=(2, 2), padding=(2, 2), groups=672, bias=False)\n",
       "            (1): BatchNorm2d(672, eps=1e-05, momentum=0.1, affine=True, track_running_stats=True)\n",
       "            (2): SiLU(inplace=True)\n",
       "          )\n",
       "          (2): SqueezeExcitation(\n",
       "            (avgpool): AdaptiveAvgPool2d(output_size=1)\n",
       "            (fc1): Conv2d(672, 28, kernel_size=(1, 1), stride=(1, 1))\n",
       "            (fc2): Conv2d(28, 672, kernel_size=(1, 1), stride=(1, 1))\n",
       "            (activation): SiLU(inplace=True)\n",
       "            (scale_activation): Sigmoid()\n",
       "          )\n",
       "          (3): Conv2dNormActivation(\n",
       "            (0): Conv2d(672, 192, kernel_size=(1, 1), stride=(1, 1), bias=False)\n",
       "            (1): BatchNorm2d(192, eps=1e-05, momentum=0.1, affine=True, track_running_stats=True)\n",
       "          )\n",
       "        )\n",
       "        (stochastic_depth): StochasticDepth(p=0.1391304347826087, mode=row)\n",
       "      )\n",
       "      (1): MBConv(\n",
       "        (block): Sequential(\n",
       "          (0): Conv2dNormActivation(\n",
       "            (0): Conv2d(192, 1152, kernel_size=(1, 1), stride=(1, 1), bias=False)\n",
       "            (1): BatchNorm2d(1152, eps=1e-05, momentum=0.1, affine=True, track_running_stats=True)\n",
       "            (2): SiLU(inplace=True)\n",
       "          )\n",
       "          (1): Conv2dNormActivation(\n",
       "            (0): Conv2d(1152, 1152, kernel_size=(5, 5), stride=(1, 1), padding=(2, 2), groups=1152, bias=False)\n",
       "            (1): BatchNorm2d(1152, eps=1e-05, momentum=0.1, affine=True, track_running_stats=True)\n",
       "            (2): SiLU(inplace=True)\n",
       "          )\n",
       "          (2): SqueezeExcitation(\n",
       "            (avgpool): AdaptiveAvgPool2d(output_size=1)\n",
       "            (fc1): Conv2d(1152, 48, kernel_size=(1, 1), stride=(1, 1))\n",
       "            (fc2): Conv2d(48, 1152, kernel_size=(1, 1), stride=(1, 1))\n",
       "            (activation): SiLU(inplace=True)\n",
       "            (scale_activation): Sigmoid()\n",
       "          )\n",
       "          (3): Conv2dNormActivation(\n",
       "            (0): Conv2d(1152, 192, kernel_size=(1, 1), stride=(1, 1), bias=False)\n",
       "            (1): BatchNorm2d(192, eps=1e-05, momentum=0.1, affine=True, track_running_stats=True)\n",
       "          )\n",
       "        )\n",
       "        (stochastic_depth): StochasticDepth(p=0.14782608695652175, mode=row)\n",
       "      )\n",
       "      (2): MBConv(\n",
       "        (block): Sequential(\n",
       "          (0): Conv2dNormActivation(\n",
       "            (0): Conv2d(192, 1152, kernel_size=(1, 1), stride=(1, 1), bias=False)\n",
       "            (1): BatchNorm2d(1152, eps=1e-05, momentum=0.1, affine=True, track_running_stats=True)\n",
       "            (2): SiLU(inplace=True)\n",
       "          )\n",
       "          (1): Conv2dNormActivation(\n",
       "            (0): Conv2d(1152, 1152, kernel_size=(5, 5), stride=(1, 1), padding=(2, 2), groups=1152, bias=False)\n",
       "            (1): BatchNorm2d(1152, eps=1e-05, momentum=0.1, affine=True, track_running_stats=True)\n",
       "            (2): SiLU(inplace=True)\n",
       "          )\n",
       "          (2): SqueezeExcitation(\n",
       "            (avgpool): AdaptiveAvgPool2d(output_size=1)\n",
       "            (fc1): Conv2d(1152, 48, kernel_size=(1, 1), stride=(1, 1))\n",
       "            (fc2): Conv2d(48, 1152, kernel_size=(1, 1), stride=(1, 1))\n",
       "            (activation): SiLU(inplace=True)\n",
       "            (scale_activation): Sigmoid()\n",
       "          )\n",
       "          (3): Conv2dNormActivation(\n",
       "            (0): Conv2d(1152, 192, kernel_size=(1, 1), stride=(1, 1), bias=False)\n",
       "            (1): BatchNorm2d(192, eps=1e-05, momentum=0.1, affine=True, track_running_stats=True)\n",
       "          )\n",
       "        )\n",
       "        (stochastic_depth): StochasticDepth(p=0.1565217391304348, mode=row)\n",
       "      )\n",
       "      (3): MBConv(\n",
       "        (block): Sequential(\n",
       "          (0): Conv2dNormActivation(\n",
       "            (0): Conv2d(192, 1152, kernel_size=(1, 1), stride=(1, 1), bias=False)\n",
       "            (1): BatchNorm2d(1152, eps=1e-05, momentum=0.1, affine=True, track_running_stats=True)\n",
       "            (2): SiLU(inplace=True)\n",
       "          )\n",
       "          (1): Conv2dNormActivation(\n",
       "            (0): Conv2d(1152, 1152, kernel_size=(5, 5), stride=(1, 1), padding=(2, 2), groups=1152, bias=False)\n",
       "            (1): BatchNorm2d(1152, eps=1e-05, momentum=0.1, affine=True, track_running_stats=True)\n",
       "            (2): SiLU(inplace=True)\n",
       "          )\n",
       "          (2): SqueezeExcitation(\n",
       "            (avgpool): AdaptiveAvgPool2d(output_size=1)\n",
       "            (fc1): Conv2d(1152, 48, kernel_size=(1, 1), stride=(1, 1))\n",
       "            (fc2): Conv2d(48, 1152, kernel_size=(1, 1), stride=(1, 1))\n",
       "            (activation): SiLU(inplace=True)\n",
       "            (scale_activation): Sigmoid()\n",
       "          )\n",
       "          (3): Conv2dNormActivation(\n",
       "            (0): Conv2d(1152, 192, kernel_size=(1, 1), stride=(1, 1), bias=False)\n",
       "            (1): BatchNorm2d(192, eps=1e-05, momentum=0.1, affine=True, track_running_stats=True)\n",
       "          )\n",
       "        )\n",
       "        (stochastic_depth): StochasticDepth(p=0.16521739130434784, mode=row)\n",
       "      )\n",
       "      (4): MBConv(\n",
       "        (block): Sequential(\n",
       "          (0): Conv2dNormActivation(\n",
       "            (0): Conv2d(192, 1152, kernel_size=(1, 1), stride=(1, 1), bias=False)\n",
       "            (1): BatchNorm2d(1152, eps=1e-05, momentum=0.1, affine=True, track_running_stats=True)\n",
       "            (2): SiLU(inplace=True)\n",
       "          )\n",
       "          (1): Conv2dNormActivation(\n",
       "            (0): Conv2d(1152, 1152, kernel_size=(5, 5), stride=(1, 1), padding=(2, 2), groups=1152, bias=False)\n",
       "            (1): BatchNorm2d(1152, eps=1e-05, momentum=0.1, affine=True, track_running_stats=True)\n",
       "            (2): SiLU(inplace=True)\n",
       "          )\n",
       "          (2): SqueezeExcitation(\n",
       "            (avgpool): AdaptiveAvgPool2d(output_size=1)\n",
       "            (fc1): Conv2d(1152, 48, kernel_size=(1, 1), stride=(1, 1))\n",
       "            (fc2): Conv2d(48, 1152, kernel_size=(1, 1), stride=(1, 1))\n",
       "            (activation): SiLU(inplace=True)\n",
       "            (scale_activation): Sigmoid()\n",
       "          )\n",
       "          (3): Conv2dNormActivation(\n",
       "            (0): Conv2d(1152, 192, kernel_size=(1, 1), stride=(1, 1), bias=False)\n",
       "            (1): BatchNorm2d(192, eps=1e-05, momentum=0.1, affine=True, track_running_stats=True)\n",
       "          )\n",
       "        )\n",
       "        (stochastic_depth): StochasticDepth(p=0.17391304347826086, mode=row)\n",
       "      )\n",
       "    )\n",
       "    (7): Sequential(\n",
       "      (0): MBConv(\n",
       "        (block): Sequential(\n",
       "          (0): Conv2dNormActivation(\n",
       "            (0): Conv2d(192, 1152, kernel_size=(1, 1), stride=(1, 1), bias=False)\n",
       "            (1): BatchNorm2d(1152, eps=1e-05, momentum=0.1, affine=True, track_running_stats=True)\n",
       "            (2): SiLU(inplace=True)\n",
       "          )\n",
       "          (1): Conv2dNormActivation(\n",
       "            (0): Conv2d(1152, 1152, kernel_size=(3, 3), stride=(1, 1), padding=(1, 1), groups=1152, bias=False)\n",
       "            (1): BatchNorm2d(1152, eps=1e-05, momentum=0.1, affine=True, track_running_stats=True)\n",
       "            (2): SiLU(inplace=True)\n",
       "          )\n",
       "          (2): SqueezeExcitation(\n",
       "            (avgpool): AdaptiveAvgPool2d(output_size=1)\n",
       "            (fc1): Conv2d(1152, 48, kernel_size=(1, 1), stride=(1, 1))\n",
       "            (fc2): Conv2d(48, 1152, kernel_size=(1, 1), stride=(1, 1))\n",
       "            (activation): SiLU(inplace=True)\n",
       "            (scale_activation): Sigmoid()\n",
       "          )\n",
       "          (3): Conv2dNormActivation(\n",
       "            (0): Conv2d(1152, 320, kernel_size=(1, 1), stride=(1, 1), bias=False)\n",
       "            (1): BatchNorm2d(320, eps=1e-05, momentum=0.1, affine=True, track_running_stats=True)\n",
       "          )\n",
       "        )\n",
       "        (stochastic_depth): StochasticDepth(p=0.1826086956521739, mode=row)\n",
       "      )\n",
       "      (1): MBConv(\n",
       "        (block): Sequential(\n",
       "          (0): Conv2dNormActivation(\n",
       "            (0): Conv2d(320, 1920, kernel_size=(1, 1), stride=(1, 1), bias=False)\n",
       "            (1): BatchNorm2d(1920, eps=1e-05, momentum=0.1, affine=True, track_running_stats=True)\n",
       "            (2): SiLU(inplace=True)\n",
       "          )\n",
       "          (1): Conv2dNormActivation(\n",
       "            (0): Conv2d(1920, 1920, kernel_size=(3, 3), stride=(1, 1), padding=(1, 1), groups=1920, bias=False)\n",
       "            (1): BatchNorm2d(1920, eps=1e-05, momentum=0.1, affine=True, track_running_stats=True)\n",
       "            (2): SiLU(inplace=True)\n",
       "          )\n",
       "          (2): SqueezeExcitation(\n",
       "            (avgpool): AdaptiveAvgPool2d(output_size=1)\n",
       "            (fc1): Conv2d(1920, 80, kernel_size=(1, 1), stride=(1, 1))\n",
       "            (fc2): Conv2d(80, 1920, kernel_size=(1, 1), stride=(1, 1))\n",
       "            (activation): SiLU(inplace=True)\n",
       "            (scale_activation): Sigmoid()\n",
       "          )\n",
       "          (3): Conv2dNormActivation(\n",
       "            (0): Conv2d(1920, 320, kernel_size=(1, 1), stride=(1, 1), bias=False)\n",
       "            (1): BatchNorm2d(320, eps=1e-05, momentum=0.1, affine=True, track_running_stats=True)\n",
       "          )\n",
       "        )\n",
       "        (stochastic_depth): StochasticDepth(p=0.19130434782608696, mode=row)\n",
       "      )\n",
       "    )\n",
       "    (8): Conv2dNormActivation(\n",
       "      (0): Conv2d(320, 1280, kernel_size=(1, 1), stride=(1, 1), bias=False)\n",
       "      (1): BatchNorm2d(1280, eps=1e-05, momentum=0.1, affine=True, track_running_stats=True)\n",
       "      (2): SiLU(inplace=True)\n",
       "    )\n",
       "  )\n",
       "  (avgpool): AdaptiveAvgPool2d(output_size=1)\n",
       "  (classifier): Sequential(\n",
       "    (0): Dropout(p=0.2, inplace=False)\n",
       "    (1): Linear(in_features=1280, out_features=200, bias=True)\n",
       "  )\n",
       ")"
      ]
     },
     "execution_count": 10,
     "metadata": {},
     "output_type": "execute_result"
    }
   ],
   "source": [
    "model2 = torchvision.models.efficientnet_b1(pretrain=True, weights='DEFAULT')\n",
    "model2.classifier = nn.Sequential(\n",
    "    nn.Dropout(0.2),\n",
    "    nn.Linear(1280, 200),\n",
    ")\n",
    "model2.to(device)"
   ]
  },
  {
   "cell_type": "code",
   "execution_count": 11,
   "metadata": {
    "colab": {
     "base_uri": "https://localhost:8080/",
     "height": 645
    },
    "id": "ICVIVpRzZhwK",
    "outputId": "bff2779a-702d-403f-8a95-221fa10b3903"
   },
   "outputs": [
    {
     "data": {
      "image/png": "[encoded data removed]",
      "text/plain": [
       "<Figure size 432x288 with 1 Axes>"
      ]
     },
     "metadata": {
      "needs_background": "light"
     },
     "output_type": "display_data"
    },
    {
     "data": {
      "image/png": "[encoded data removed]",
      "text/plain": [
       "<Figure size 432x288 with 1 Axes>"
      ]
     },
     "metadata": {
      "needs_background": "light"
     },
     "output_type": "display_data"
    },
    {
     "name": "stdout",
     "output_type": "stream",
     "text": [
      "Train loss: 0.01253542024642229\n",
      "Train acc: 0.7821097373962402\n",
      "Val loss: 0.01268185954540968\n",
      "Val acc: 0.7852308750152588\n"
     ]
    }
   ],
   "source": [
    "criterion = nn.CrossEntropyLoss()\n",
    "optimizer = torch.optim.SGD(model2.parameters(), lr=0.001, momentum=0.9)\n",
    "\n",
    "train(model2, criterion, optimizer, train_dataloader2, val_dataloader2, n_epochs=15)"
   ]
  },
  {
   "cell_type": "markdown",
   "metadata": {
    "id": "u5D2bwOKSHVp"
   },
   "source": [
    "### Валидация результатов задания"
   ]
  },
  {
   "cell_type": "code",
   "execution_count": 16,
   "metadata": {
    "colab": {
     "base_uri": "https://localhost:8080/"
    },
    "id": "PEdwJE5uOrIM",
    "outputId": "9afae46b-5c90-4aeb-c140-997776cbdc4e"
   },
   "outputs": [
    {
     "name": "stderr",
     "output_type": "stream",
     "text": [
      "100%|██████████| 157/157 [00:11<00:00, 13.50it/s]"
     ]
    },
    {
     "name": "stdout",
     "output_type": "stream",
     "text": [
      "Оценка за это задание составит 8.39 баллов\n"
     ]
    },
    {
     "name": "stderr",
     "output_type": "stream",
     "text": [
      "\n"
     ]
    }
   ],
   "source": [
    "model_best = model2\n",
    "\n",
    "accuracy = evaluate_task(model_best, val_dataloader2)\n",
    "print(f\"Оценка за это задание составит {np.clip(10 * (accuracy - 0.5) / 0.34, 0, 10):.2f} баллов\")"
   ]
  },
  {
   "cell_type": "markdown",
   "metadata": {
    "cell_id": 15,
    "id": "pT8vfPSolRVb"
   },
   "source": [
    "# Отчёт об экспериментах \n",
    "\n",
    "текст писать тут (или ссылочку на wandb/любой трекер экспреиментов) для каждого задания, то есть не обязательно именно тут рисовать графики, если вы используете готовые трекеры/мониторинги ваших моделей."
   ]
  },
  {
   "cell_type": "markdown",
   "metadata": {
    "id": "qbT6iheHfX3u"
   },
   "source": [
    "Сначала я честно писала все через лайтнинг и трекала обучение в wandb, даже [ссылочку](https://wandb.ai/verabagrova/lightning_logs/runs/n81nmp34?workspace=user-verabagrova) прикреплю. Основной проблемой стало очень долгое обучение, дальше третьей эпохи не доходило и из-за этого было сложно перебирать и подбирать архитектуры. \n",
    "В общем, за день до дедлайна стало совсем грустно, поэтому я взяла функции для обучения из семинаров и прогнала на них несколько моделек. За основу взяла vgg16 с меньшим количеством сверток. Пробовала работать на Adam оптимизаторе, но он оказался хуже SGD. Dropout оказался не слишком полезен, с учетом того, что моделька итак не особо хорошее качество показывала...И еще применила нормализацию с точно посчитаным средним и стандартным отклонением, это немного улучшила прогноз. В конце концов получилась относительно стабильная моделька, у которой при увеличении количества эпох росло акураси. Ну и по итогам смены лайтнинга на хардкодинг я не могу не прикрепить это:\n",
    "\n",
    "![mem.jpg](data:image/jpeg;base64,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)"
   ]
  },
  {
   "cell_type": "markdown",
   "metadata": {
    "id": "Xj5FAi7zrHmZ"
   },
   "source": [
    "По второму пункту: добавила ресайз, сначала сделала 256 на 256, но оно обучалось как черепаха, поэтому перешла на 128. еще подумала, что изменение цыета тоже лучше убрать, так как по картинке итак не особо что-то понятно, а colorjitter делает ее еще менее разборчивой и раз уж мне тяжело, то и нейронке вероятно тоже. Попробовала использовать efficientnet_b5 и efficientnet_b3, но они долго обучались (вероятно, из за большого количества параметров) и качество на первых эпоках показывали прям не очень (около 0,08 и я так и не осознала почему). Опустилась до b1 и все стало хорошо :)\n",
    "\n",
    "Если честно, домашка получилась практически полным копипастом с семинара и заключалась в том, чтобы просто перебрать кучу моделек. Вероятно, не хватает понимания какие модели, где лучше применять."
   ]
  }
 ],
 "metadata": {
  "accelerator": "GPU",
  "colab": {
   "collapsed_sections": [],
   "provenance": []
  },
  "gpuClass": "standard",
  "kernelspec": {
   "display_name": "Python 3",
   "language": "python",
   "name": "python3"
  },
  "language_info": {
   "codemirror_mode": {
    "name": "ipython",
    "version": 3
   },
   "file_extension": ".py",
   "mimetype": "text/x-python",
   "name": "python",
   "nbconvert_exporter": "python",
   "pygments_lexer": "ipython3",
   "version": "3.8.2"
  },
  "max_cell_id": 35,
  "widgets": {
   "application/vnd.jupyter.widget-state+json": {
    "084962407da841d98139569c02d68b91": {
     "model_module": "@jupyter-widgets/controls",
     "model_module_version": "1.5.0",
     "model_name": "DescriptionStyleModel",
     "state": {
      "_model_module": "@jupyter-widgets/controls",
      "_model_module_version": "1.5.0",
      "_model_name": "DescriptionStyleModel",
      "_view_count": null,
      "_view_module": "@jupyter-widgets/base",
      "_view_module_version": "1.2.0",
      "_view_name": "StyleView",
      "description_width": ""
     }
    },
    "10e00184d4654afeb554ac1d96b23b44": {
     "model_module": "@jupyter-widgets/base",
     "model_module_version": "1.2.0",
     "model_name": "LayoutModel",
     "state": {
      "_model_module": "@jupyter-widgets/base",
      "_model_module_version": "1.2.0",
      "_model_name": "LayoutModel",
      "_view_count": null,
      "_view_module": "@jupyter-widgets/base",
      "_view_module_version": "1.2.0",
      "_view_name": "LayoutView",
      "align_content": null,
      "align_items": null,
      "align_self": null,
      "border": null,
      "bottom": null,
      "display": null,
      "flex": null,
      "flex_flow": null,
      "grid_area": null,
      "grid_auto_columns": null,
      "grid_auto_flow": null,
      "grid_auto_rows": null,
      "grid_column": null,
      "grid_gap": null,
      "grid_row": null,
      "grid_template_areas": null,
      "grid_template_columns": null,
      "grid_template_rows": null,
      "height": null,
      "justify_content": null,
      "justify_items": null,
      "left": null,
      "margin": null,
      "max_height": null,
      "max_width": null,
      "min_height": null,
      "min_width": null,
      "object_fit": null,
      "object_position": null,
      "order": null,
      "overflow": null,
      "overflow_x": null,
      "overflow_y": null,
      "padding": null,
      "right": null,
      "top": null,
      "visibility": null,
      "width": null
     }
    },
    "224513a2977647d2a8c09dbcc2078bb7": {
     "model_module": "@jupyter-widgets/controls",
     "model_module_version": "1.5.0",
     "model_name": "ProgressStyleModel",
     "state": {
      "_model_module": "@jupyter-widgets/controls",
      "_model_module_version": "1.5.0",
      "_model_name": "ProgressStyleModel",
      "_view_count": null,
      "_view_module": "@jupyter-widgets/base",
      "_view_module_version": "1.2.0",
      "_view_name": "StyleView",
      "bar_color": null,
      "description_width": ""
     }
    },
    "52320624c80c4c3da98e30b0f17e2ffd": {
     "model_module": "@jupyter-widgets/controls",
     "model_module_version": "1.5.0",
     "model_name": "HBoxModel",
     "state": {
      "_dom_classes": [],
      "_model_module": "@jupyter-widgets/controls",
      "_model_module_version": "1.5.0",
      "_model_name": "HBoxModel",
      "_view_count": null,
      "_view_module": "@jupyter-widgets/controls",
      "_view_module_version": "1.5.0",
      "_view_name": "HBoxView",
      "box_style": "",
      "children": [
       "IPY_MODEL_b0ea3996811841898e02633a07b5f7a5",
       "IPY_MODEL_5be20c3126904dc0bf015eefe5a491ed",
       "IPY_MODEL_6131892ac1164b29afb1d9d34eb75962"
      ],
      "layout": "IPY_MODEL_10e00184d4654afeb554ac1d96b23b44"
     }
    },
    "5be20c3126904dc0bf015eefe5a491ed": {
     "model_module": "@jupyter-widgets/controls",
     "model_module_version": "1.5.0",
     "model_name": "FloatProgressModel",
     "state": {
      "_dom_classes": [],
      "_model_module": "@jupyter-widgets/controls",
      "_model_module_version": "1.5.0",
      "_model_name": "FloatProgressModel",
      "_view_count": null,
      "_view_module": "@jupyter-widgets/controls",
      "_view_module_version": "1.5.0",
      "_view_name": "ProgressView",
      "bar_style": "success",
      "description": "",
      "description_tooltip": null,
      "layout": "IPY_MODEL_9d659650cd27472dbf58b82ef030f6f0",
      "max": 31600329,
      "min": 0,
      "orientation": "horizontal",
      "style": "IPY_MODEL_224513a2977647d2a8c09dbcc2078bb7",
      "value": 31600329
     }
    },
    "6131892ac1164b29afb1d9d34eb75962": {
     "model_module": "@jupyter-widgets/controls",
     "model_module_version": "1.5.0",
     "model_name": "HTMLModel",
     "state": {
      "_dom_classes": [],
      "_model_module": "@jupyter-widgets/controls",
      "_model_module_version": "1.5.0",
      "_model_name": "HTMLModel",
      "_view_count": null,
      "_view_module": "@jupyter-widgets/controls",
      "_view_module_version": "1.5.0",
      "_view_name": "HTMLView",
      "description": "",
      "description_tooltip": null,
      "layout": "IPY_MODEL_c8101bbde7714054a5cba8c2b6e97170",
      "placeholder": "​",
      "style": "IPY_MODEL_ed2f17a4620840c29093d67bf7986651",
      "value": " 30.1M/30.1M [00:01&lt;00:00, 27.8MB/s]"
     }
    },
    "9d659650cd27472dbf58b82ef030f6f0": {
     "model_module": "@jupyter-widgets/base",
     "model_module_version": "1.2.0",
     "model_name": "LayoutModel",
     "state": {
      "_model_module": "@jupyter-widgets/base",
      "_model_module_version": "1.2.0",
      "_model_name": "LayoutModel",
      "_view_count": null,
      "_view_module": "@jupyter-widgets/base",
      "_view_module_version": "1.2.0",
      "_view_name": "LayoutView",
      "align_content": null,
      "align_items": null,
      "align_self": null,
      "border": null,
      "bottom": null,
      "display": null,
      "flex": null,
      "flex_flow": null,
      "grid_area": null,
      "grid_auto_columns": null,
      "grid_auto_flow": null,
      "grid_auto_rows": null,
      "grid_column": null,
      "grid_gap": null,
      "grid_row": null,
      "grid_template_areas": null,
      "grid_template_columns": null,
      "grid_template_rows": null,
      "height": null,
      "justify_content": null,
      "justify_items": null,
      "left": null,
      "margin": null,
      "max_height": null,
      "max_width": null,
      "min_height": null,
      "min_width": null,
      "object_fit": null,
      "object_position": null,
      "order": null,
      "overflow": null,
      "overflow_x": null,
      "overflow_y": null,
      "padding": null,
      "right": null,
      "top": null,
      "visibility": null,
      "width": null
     }
    },
    "a1623e9b507b4742a3c747508bff8b54": {
     "model_module": "@jupyter-widgets/base",
     "model_module_version": "1.2.0",
     "model_name": "LayoutModel",
     "state": {
      "_model_module": "@jupyter-widgets/base",
      "_model_module_version": "1.2.0",
      "_model_name": "LayoutModel",
      "_view_count": null,
      "_view_module": "@jupyter-widgets/base",
      "_view_module_version": "1.2.0",
      "_view_name": "LayoutView",
      "align_content": null,
      "align_items": null,
      "align_self": null,
      "border": null,
      "bottom": null,
      "display": null,
      "flex": null,
      "flex_flow": null,
      "grid_area": null,
      "grid_auto_columns": null,
      "grid_auto_flow": null,
      "grid_auto_rows": null,
      "grid_column": null,
      "grid_gap": null,
      "grid_row": null,
      "grid_template_areas": null,
      "grid_template_columns": null,
      "grid_template_rows": null,
      "height": null,
      "justify_content": null,
      "justify_items": null,
      "left": null,
      "margin": null,
      "max_height": null,
      "max_width": null,
      "min_height": null,
      "min_width": null,
      "object_fit": null,
      "object_position": null,
      "order": null,
      "overflow": null,
      "overflow_x": null,
      "overflow_y": null,
      "padding": null,
      "right": null,
      "top": null,
      "visibility": null,
      "width": null
     }
    },
    "b0ea3996811841898e02633a07b5f7a5": {
     "model_module": "@jupyter-widgets/controls",
     "model_module_version": "1.5.0",
     "model_name": "HTMLModel",
     "state": {
      "_dom_classes": [],
      "_model_module": "@jupyter-widgets/controls",
      "_model_module_version": "1.5.0",
      "_model_name": "HTMLModel",
      "_view_count": null,
      "_view_module": "@jupyter-widgets/controls",
      "_view_module_version": "1.5.0",
      "_view_name": "HTMLView",
      "description": "",
      "description_tooltip": null,
      "layout": "IPY_MODEL_a1623e9b507b4742a3c747508bff8b54",
      "placeholder": "​",
      "style": "IPY_MODEL_084962407da841d98139569c02d68b91",
      "value": "100%"
     }
    },
    "c8101bbde7714054a5cba8c2b6e97170": {
     "model_module": "@jupyter-widgets/base",
     "model_module_version": "1.2.0",
     "model_name": "LayoutModel",
     "state": {
      "_model_module": "@jupyter-widgets/base",
      "_model_module_version": "1.2.0",
      "_model_name": "LayoutModel",
      "_view_count": null,
      "_view_module": "@jupyter-widgets/base",
      "_view_module_version": "1.2.0",
      "_view_name": "LayoutView",
      "align_content": null,
      "align_items": null,
      "align_self": null,
      "border": null,
      "bottom": null,
      "display": null,
      "flex": null,
      "flex_flow": null,
      "grid_area": null,
      "grid_auto_columns": null,
      "grid_auto_flow": null,
      "grid_auto_rows": null,
      "grid_column": null,
      "grid_gap": null,
      "grid_row": null,
      "grid_template_areas": null,
      "grid_template_columns": null,
      "grid_template_rows": null,
      "height": null,
      "justify_content": null,
      "justify_items": null,
      "left": null,
      "margin": null,
      "max_height": null,
      "max_width": null,
      "min_height": null,
      "min_width": null,
      "object_fit": null,
      "object_position": null,
      "order": null,
      "overflow": null,
      "overflow_x": null,
      "overflow_y": null,
      "padding": null,
      "right": null,
      "top": null,
      "visibility": null,
      "width": null
     }
    },
    "ed2f17a4620840c29093d67bf7986651": {
     "model_module": "@jupyter-widgets/controls",
     "model_module_version": "1.5.0",
     "model_name": "DescriptionStyleModel",
     "state": {
      "_model_module": "@jupyter-widgets/controls",
      "_model_module_version": "1.5.0",
      "_model_name": "DescriptionStyleModel",
      "_view_count": null,
      "_view_module": "@jupyter-widgets/base",
      "_view_module_version": "1.2.0",
      "_view_name": "StyleView",
      "description_width": ""
     }
    }
   }
  }
 },
 "nbformat": 4,
 "nbformat_minor": 1
}
